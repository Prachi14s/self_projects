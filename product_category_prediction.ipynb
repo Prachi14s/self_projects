{
 "cells": [
  {
   "cell_type": "markdown",
   "metadata": {},
   "source": [
    "# Product_Category_Prediction"
   ]
  },
  {
   "cell_type": "markdown",
   "metadata": {},
   "source": [
    "### importing required libraries"
   ]
  },
  {
   "cell_type": "code",
   "execution_count": 7,
   "metadata": {
    "collapsed": false
   },
   "outputs": [],
   "source": [
    "import pandas as pd\n",
    "import numpy as np\n",
    "import matplotlib.pyplot as plt\n",
    "% matplotlib.inline\n",
    "import seaborn as sns\n",
    "\n",
    "import warnings\n",
    "warnings.filterwarnings(\"ignore\")"
   ]
  },
  {
   "cell_type": "code",
   "execution_count": 8,
   "metadata": {
    "collapsed": true
   },
   "outputs": [],
   "source": [
    "train=pd.read_csv(\"/resources/data/Train1.csv\")"
   ]
  },
  {
   "cell_type": "code",
   "execution_count": 9,
   "metadata": {
    "collapsed": true
   },
   "outputs": [],
   "source": [
    "test=pd.read_csv(\"/resources/data/Test1.csv\")"
   ]
  },
  {
   "cell_type": "code",
   "execution_count": 10,
   "metadata": {
    "collapsed": false
   },
   "outputs": [
    {
     "data": {
      "text/html": [
       "<div>\n",
       "<style scoped>\n",
       "    .dataframe tbody tr th:only-of-type {\n",
       "        vertical-align: middle;\n",
       "    }\n",
       "\n",
       "    .dataframe tbody tr th {\n",
       "        vertical-align: top;\n",
       "    }\n",
       "\n",
       "    .dataframe thead th {\n",
       "        text-align: right;\n",
       "    }\n",
       "</style>\n",
       "<table border=\"1\" class=\"dataframe\">\n",
       "  <thead>\n",
       "    <tr style=\"text-align: right;\">\n",
       "      <th></th>\n",
       "      <th>Inv_Id</th>\n",
       "      <th>Vendor_Code</th>\n",
       "      <th>GL_Code</th>\n",
       "      <th>Inv_Amt</th>\n",
       "      <th>Item_Description</th>\n",
       "      <th>Product_Category</th>\n",
       "    </tr>\n",
       "  </thead>\n",
       "  <tbody>\n",
       "    <tr>\n",
       "      <th>0</th>\n",
       "      <td>15001</td>\n",
       "      <td>VENDOR-1676</td>\n",
       "      <td>GL-6100410</td>\n",
       "      <td>83.24</td>\n",
       "      <td>Artworking/Typesetting Production Jun 2009 Cha...</td>\n",
       "      <td>CLASS-1963</td>\n",
       "    </tr>\n",
       "    <tr>\n",
       "      <th>1</th>\n",
       "      <td>15002</td>\n",
       "      <td>VENDOR-1883</td>\n",
       "      <td>GL-2182000</td>\n",
       "      <td>51.18</td>\n",
       "      <td>Auto Leasing Corporate Services Corning Inc /N...</td>\n",
       "      <td>CLASS-1250</td>\n",
       "    </tr>\n",
       "    <tr>\n",
       "      <th>2</th>\n",
       "      <td>15004</td>\n",
       "      <td>VENDOR-1999</td>\n",
       "      <td>GL-6050100</td>\n",
       "      <td>79.02</td>\n",
       "      <td>Store Management Lease/Rent Deltona Corp Real ...</td>\n",
       "      <td>CLASS-1274</td>\n",
       "    </tr>\n",
       "    <tr>\n",
       "      <th>3</th>\n",
       "      <td>15005</td>\n",
       "      <td>VENDOR-1771</td>\n",
       "      <td>GL-6101400</td>\n",
       "      <td>48.50</td>\n",
       "      <td>Store Construction General Requirements Coloni...</td>\n",
       "      <td>CLASS-1522</td>\n",
       "    </tr>\n",
       "    <tr>\n",
       "      <th>4</th>\n",
       "      <td>15006</td>\n",
       "      <td>VENDOR-1331</td>\n",
       "      <td>GL-2182000</td>\n",
       "      <td>63.35</td>\n",
       "      <td>Jul 2015 Aydin Corp Contingent Labor/Temp Labo...</td>\n",
       "      <td>CLASS-1376</td>\n",
       "    </tr>\n",
       "    <tr>\n",
       "      <th>5</th>\n",
       "      <td>15007</td>\n",
       "      <td>VENDOR-2076</td>\n",
       "      <td>GL-6101400</td>\n",
       "      <td>32.28</td>\n",
       "      <td>Final Site Clean Up 2018Mar Store Construction...</td>\n",
       "      <td>CLASS-1522</td>\n",
       "    </tr>\n",
       "    <tr>\n",
       "      <th>6</th>\n",
       "      <td>15009</td>\n",
       "      <td>VENDOR-1802</td>\n",
       "      <td>GL-6050310</td>\n",
       "      <td>5.38</td>\n",
       "      <td>Travel and Entertainment Miscellaneous Company...</td>\n",
       "      <td>CLASS-1758</td>\n",
       "    </tr>\n",
       "    <tr>\n",
       "      <th>7</th>\n",
       "      <td>15010</td>\n",
       "      <td>VENDOR-1191</td>\n",
       "      <td>GL-6101400</td>\n",
       "      <td>31.21</td>\n",
       "      <td>General Contractor General Requirements Final ...</td>\n",
       "      <td>CLASS-1522</td>\n",
       "    </tr>\n",
       "    <tr>\n",
       "      <th>8</th>\n",
       "      <td>15011</td>\n",
       "      <td>VENDOR-2120</td>\n",
       "      <td>GL-6100410</td>\n",
       "      <td>42.89</td>\n",
       "      <td>Aquila Distributors Inc                       ...</td>\n",
       "      <td>CLASS-1963</td>\n",
       "    </tr>\n",
       "    <tr>\n",
       "      <th>9</th>\n",
       "      <td>15012</td>\n",
       "      <td>VENDOR-1704</td>\n",
       "      <td>GL-6050100</td>\n",
       "      <td>59.50</td>\n",
       "      <td>Base Rent Store Management Chicago Rivet &amp; Mac...</td>\n",
       "      <td>CLASS-1274</td>\n",
       "    </tr>\n",
       "  </tbody>\n",
       "</table>\n",
       "</div>"
      ],
      "text/plain": [
       "   Inv_Id  Vendor_Code     GL_Code  Inv_Amt  \\\n",
       "0   15001  VENDOR-1676  GL-6100410    83.24   \n",
       "1   15002  VENDOR-1883  GL-2182000    51.18   \n",
       "2   15004  VENDOR-1999  GL-6050100    79.02   \n",
       "3   15005  VENDOR-1771  GL-6101400    48.50   \n",
       "4   15006  VENDOR-1331  GL-2182000    63.35   \n",
       "5   15007  VENDOR-2076  GL-6101400    32.28   \n",
       "6   15009  VENDOR-1802  GL-6050310     5.38   \n",
       "7   15010  VENDOR-1191  GL-6101400    31.21   \n",
       "8   15011  VENDOR-2120  GL-6100410    42.89   \n",
       "9   15012  VENDOR-1704  GL-6050100    59.50   \n",
       "\n",
       "                                    Item_Description Product_Category  \n",
       "0  Artworking/Typesetting Production Jun 2009 Cha...       CLASS-1963  \n",
       "1  Auto Leasing Corporate Services Corning Inc /N...       CLASS-1250  \n",
       "2  Store Management Lease/Rent Deltona Corp Real ...       CLASS-1274  \n",
       "3  Store Construction General Requirements Coloni...       CLASS-1522  \n",
       "4  Jul 2015 Aydin Corp Contingent Labor/Temp Labo...       CLASS-1376  \n",
       "5  Final Site Clean Up 2018Mar Store Construction...       CLASS-1522  \n",
       "6  Travel and Entertainment Miscellaneous Company...       CLASS-1758  \n",
       "7  General Contractor General Requirements Final ...       CLASS-1522  \n",
       "8  Aquila Distributors Inc                       ...       CLASS-1963  \n",
       "9  Base Rent Store Management Chicago Rivet & Mac...       CLASS-1274  "
      ]
     },
     "execution_count": 10,
     "metadata": {},
     "output_type": "execute_result"
    }
   ],
   "source": [
    "train.head(10)"
   ]
  },
  {
   "cell_type": "code",
   "execution_count": 11,
   "metadata": {
    "collapsed": false,
    "scrolled": true
   },
   "outputs": [
    {
     "data": {
      "text/html": [
       "<div>\n",
       "<style scoped>\n",
       "    .dataframe tbody tr th:only-of-type {\n",
       "        vertical-align: middle;\n",
       "    }\n",
       "\n",
       "    .dataframe tbody tr th {\n",
       "        vertical-align: top;\n",
       "    }\n",
       "\n",
       "    .dataframe thead th {\n",
       "        text-align: right;\n",
       "    }\n",
       "</style>\n",
       "<table border=\"1\" class=\"dataframe\">\n",
       "  <thead>\n",
       "    <tr style=\"text-align: right;\">\n",
       "      <th></th>\n",
       "      <th>Inv_Id</th>\n",
       "      <th>Vendor_Code</th>\n",
       "      <th>GL_Code</th>\n",
       "      <th>Inv_Amt</th>\n",
       "      <th>Item_Description</th>\n",
       "    </tr>\n",
       "  </thead>\n",
       "  <tbody>\n",
       "    <tr>\n",
       "      <th>2441</th>\n",
       "      <td>22995</td>\n",
       "      <td>VENDOR-2237</td>\n",
       "      <td>GL-6101400</td>\n",
       "      <td>7.75</td>\n",
       "      <td>General Contractor General Requirements Final ...</td>\n",
       "    </tr>\n",
       "    <tr>\n",
       "      <th>2442</th>\n",
       "      <td>23002</td>\n",
       "      <td>VENDOR-1066</td>\n",
       "      <td>GL-6050310</td>\n",
       "      <td>37.35</td>\n",
       "      <td>Ground Transportation Miscellaneous Company Ca...</td>\n",
       "    </tr>\n",
       "    <tr>\n",
       "      <th>2443</th>\n",
       "      <td>23006</td>\n",
       "      <td>VENDOR-1883</td>\n",
       "      <td>GL-2182000</td>\n",
       "      <td>42.16</td>\n",
       "      <td>Auto Leasing Corporate Services Corning Inc /N...</td>\n",
       "    </tr>\n",
       "    <tr>\n",
       "      <th>2444</th>\n",
       "      <td>23009</td>\n",
       "      <td>VENDOR-2120</td>\n",
       "      <td>GL-6100410</td>\n",
       "      <td>63.52</td>\n",
       "      <td>Artworking/Typesetting Production 2007Mar Aqui...</td>\n",
       "    </tr>\n",
       "    <tr>\n",
       "      <th>2445</th>\n",
       "      <td>23011</td>\n",
       "      <td>VENDOR-2047</td>\n",
       "      <td>GL-2182000</td>\n",
       "      <td>40.16</td>\n",
       "      <td>2008Jul Dr Pepper Co Public Relations Agency A...</td>\n",
       "    </tr>\n",
       "  </tbody>\n",
       "</table>\n",
       "</div>"
      ],
      "text/plain": [
       "      Inv_Id  Vendor_Code     GL_Code  Inv_Amt  \\\n",
       "2441   22995  VENDOR-2237  GL-6101400     7.75   \n",
       "2442   23002  VENDOR-1066  GL-6050310    37.35   \n",
       "2443   23006  VENDOR-1883  GL-2182000    42.16   \n",
       "2444   23009  VENDOR-2120  GL-6100410    63.52   \n",
       "2445   23011  VENDOR-2047  GL-2182000    40.16   \n",
       "\n",
       "                                       Item_Description  \n",
       "2441  General Contractor General Requirements Final ...  \n",
       "2442  Ground Transportation Miscellaneous Company Ca...  \n",
       "2443  Auto Leasing Corporate Services Corning Inc /N...  \n",
       "2444  Artworking/Typesetting Production 2007Mar Aqui...  \n",
       "2445  2008Jul Dr Pepper Co Public Relations Agency A...  "
      ]
     },
     "execution_count": 11,
     "metadata": {},
     "output_type": "execute_result"
    }
   ],
   "source": [
    "test.tail()"
   ]
  },
  {
   "cell_type": "code",
   "execution_count": 12,
   "metadata": {
    "collapsed": false
   },
   "outputs": [
    {
     "name": "stdout",
     "output_type": "stream",
     "text": [
      "train dataset shape is (5566, 6)\n",
      "test dataset shape is (2446, 5)\n"
     ]
    }
   ],
   "source": [
    "print(\"train dataset shape is\", train.shape)\n",
    "print(\"test dataset shape is\", test.shape)"
   ]
  },
  {
   "cell_type": "code",
   "execution_count": 13,
   "metadata": {
    "collapsed": false
   },
   "outputs": [
    {
     "data": {
      "text/plain": [
       "Index(['Inv_Id', 'Vendor_Code', 'GL_Code', 'Inv_Amt', 'Item_Description',\n",
       "       'Product_Category'],\n",
       "      dtype='object')"
      ]
     },
     "execution_count": 13,
     "metadata": {},
     "output_type": "execute_result"
    }
   ],
   "source": [
    "train.columns"
   ]
  },
  {
   "cell_type": "code",
   "execution_count": 14,
   "metadata": {
    "collapsed": false
   },
   "outputs": [
    {
     "data": {
      "text/plain": [
       "Index(['Inv_Id', 'Vendor_Code', 'GL_Code', 'Inv_Amt', 'Item_Description'], dtype='object')"
      ]
     },
     "execution_count": 14,
     "metadata": {},
     "output_type": "execute_result"
    }
   ],
   "source": [
    "test.columns"
   ]
  },
  {
   "cell_type": "markdown",
   "metadata": {},
   "source": [
    "### here we can see that we have 5 dependent variables and 1 independent/target variable i.e. product category"
   ]
  },
  {
   "cell_type": "code",
   "execution_count": 15,
   "metadata": {
    "collapsed": false
   },
   "outputs": [
    {
     "data": {
      "text/html": [
       "<div>\n",
       "<style scoped>\n",
       "    .dataframe tbody tr th:only-of-type {\n",
       "        vertical-align: middle;\n",
       "    }\n",
       "\n",
       "    .dataframe tbody tr th {\n",
       "        vertical-align: top;\n",
       "    }\n",
       "\n",
       "    .dataframe thead th {\n",
       "        text-align: right;\n",
       "    }\n",
       "</style>\n",
       "<table border=\"1\" class=\"dataframe\">\n",
       "  <thead>\n",
       "    <tr style=\"text-align: right;\">\n",
       "      <th></th>\n",
       "      <th>Inv_Id</th>\n",
       "      <th>Vendor_Code</th>\n",
       "      <th>GL_Code</th>\n",
       "      <th>Inv_Amt</th>\n",
       "      <th>Item_Description</th>\n",
       "      <th>Product_Category</th>\n",
       "    </tr>\n",
       "  </thead>\n",
       "  <tbody>\n",
       "    <tr>\n",
       "      <th>count</th>\n",
       "      <td>5566.000000</td>\n",
       "      <td>5566</td>\n",
       "      <td>5566</td>\n",
       "      <td>5566.000000</td>\n",
       "      <td>5566</td>\n",
       "      <td>5566</td>\n",
       "    </tr>\n",
       "    <tr>\n",
       "      <th>unique</th>\n",
       "      <td>NaN</td>\n",
       "      <td>1253</td>\n",
       "      <td>9</td>\n",
       "      <td>NaN</td>\n",
       "      <td>5558</td>\n",
       "      <td>36</td>\n",
       "    </tr>\n",
       "    <tr>\n",
       "      <th>top</th>\n",
       "      <td>NaN</td>\n",
       "      <td>VENDOR-1883</td>\n",
       "      <td>GL-6050310</td>\n",
       "      <td>NaN</td>\n",
       "      <td>Ground Transportation Travel and Entertainment...</td>\n",
       "      <td>CLASS-1758</td>\n",
       "    </tr>\n",
       "    <tr>\n",
       "      <th>freq</th>\n",
       "      <td>NaN</td>\n",
       "      <td>330</td>\n",
       "      <td>1618</td>\n",
       "      <td>NaN</td>\n",
       "      <td>2</td>\n",
       "      <td>1498</td>\n",
       "    </tr>\n",
       "    <tr>\n",
       "      <th>mean</th>\n",
       "      <td>19010.787100</td>\n",
       "      <td>NaN</td>\n",
       "      <td>NaN</td>\n",
       "      <td>49.980151</td>\n",
       "      <td>NaN</td>\n",
       "      <td>NaN</td>\n",
       "    </tr>\n",
       "    <tr>\n",
       "      <th>std</th>\n",
       "      <td>2306.607485</td>\n",
       "      <td>NaN</td>\n",
       "      <td>NaN</td>\n",
       "      <td>28.903030</td>\n",
       "      <td>NaN</td>\n",
       "      <td>NaN</td>\n",
       "    </tr>\n",
       "    <tr>\n",
       "      <th>min</th>\n",
       "      <td>15001.000000</td>\n",
       "      <td>NaN</td>\n",
       "      <td>NaN</td>\n",
       "      <td>0.010000</td>\n",
       "      <td>NaN</td>\n",
       "      <td>NaN</td>\n",
       "    </tr>\n",
       "    <tr>\n",
       "      <th>25%</th>\n",
       "      <td>17006.250000</td>\n",
       "      <td>NaN</td>\n",
       "      <td>NaN</td>\n",
       "      <td>24.957500</td>\n",
       "      <td>NaN</td>\n",
       "      <td>NaN</td>\n",
       "    </tr>\n",
       "    <tr>\n",
       "      <th>50%</th>\n",
       "      <td>19017.500000</td>\n",
       "      <td>NaN</td>\n",
       "      <td>NaN</td>\n",
       "      <td>49.645000</td>\n",
       "      <td>NaN</td>\n",
       "      <td>NaN</td>\n",
       "    </tr>\n",
       "    <tr>\n",
       "      <th>75%</th>\n",
       "      <td>20994.750000</td>\n",
       "      <td>NaN</td>\n",
       "      <td>NaN</td>\n",
       "      <td>75.170000</td>\n",
       "      <td>NaN</td>\n",
       "      <td>NaN</td>\n",
       "    </tr>\n",
       "    <tr>\n",
       "      <th>max</th>\n",
       "      <td>23012.000000</td>\n",
       "      <td>NaN</td>\n",
       "      <td>NaN</td>\n",
       "      <td>99.990000</td>\n",
       "      <td>NaN</td>\n",
       "      <td>NaN</td>\n",
       "    </tr>\n",
       "  </tbody>\n",
       "</table>\n",
       "</div>"
      ],
      "text/plain": [
       "              Inv_Id  Vendor_Code     GL_Code      Inv_Amt  \\\n",
       "count    5566.000000         5566        5566  5566.000000   \n",
       "unique           NaN         1253           9          NaN   \n",
       "top              NaN  VENDOR-1883  GL-6050310          NaN   \n",
       "freq             NaN          330        1618          NaN   \n",
       "mean    19010.787100          NaN         NaN    49.980151   \n",
       "std      2306.607485          NaN         NaN    28.903030   \n",
       "min     15001.000000          NaN         NaN     0.010000   \n",
       "25%     17006.250000          NaN         NaN    24.957500   \n",
       "50%     19017.500000          NaN         NaN    49.645000   \n",
       "75%     20994.750000          NaN         NaN    75.170000   \n",
       "max     23012.000000          NaN         NaN    99.990000   \n",
       "\n",
       "                                         Item_Description Product_Category  \n",
       "count                                                5566             5566  \n",
       "unique                                               5558               36  \n",
       "top     Ground Transportation Travel and Entertainment...       CLASS-1758  \n",
       "freq                                                    2             1498  \n",
       "mean                                                  NaN              NaN  \n",
       "std                                                   NaN              NaN  \n",
       "min                                                   NaN              NaN  \n",
       "25%                                                   NaN              NaN  \n",
       "50%                                                   NaN              NaN  \n",
       "75%                                                   NaN              NaN  \n",
       "max                                                   NaN              NaN  "
      ]
     },
     "execution_count": 15,
     "metadata": {},
     "output_type": "execute_result"
    }
   ],
   "source": [
    "train.describe(include='all')"
   ]
  },
  {
   "cell_type": "code",
   "execution_count": 16,
   "metadata": {
    "collapsed": false,
    "scrolled": false
   },
   "outputs": [
    {
     "data": {
      "text/plain": [
       "Inv_Id              0\n",
       "Vendor_Code         0\n",
       "GL_Code             0\n",
       "Inv_Amt             0\n",
       "Item_Description    0\n",
       "Product_Category    0\n",
       "dtype: int64"
      ]
     },
     "execution_count": 16,
     "metadata": {},
     "output_type": "execute_result"
    }
   ],
   "source": [
    "train.isnull().sum()"
   ]
  },
  {
   "cell_type": "code",
   "execution_count": 17,
   "metadata": {
    "collapsed": false
   },
   "outputs": [
    {
     "data": {
      "text/plain": [
       "Inv_Id              0\n",
       "Vendor_Code         0\n",
       "GL_Code             0\n",
       "Inv_Amt             0\n",
       "Item_Description    0\n",
       "dtype: int64"
      ]
     },
     "execution_count": 17,
     "metadata": {},
     "output_type": "execute_result"
    }
   ],
   "source": [
    "test.isnull().sum()"
   ]
  },
  {
   "cell_type": "markdown",
   "metadata": {},
   "source": [
    "### we have no null value so there is no need of data cleaning"
   ]
  },
  {
   "cell_type": "markdown",
   "metadata": {},
   "source": [
    "### for some time we can remove itrem category, strings present in item code & gl code so that we will left with numeric data only for modelling and prediction purpose."
   ]
  },
  {
   "cell_type": "code",
   "execution_count": 18,
   "metadata": {
    "collapsed": false,
    "scrolled": true
   },
   "outputs": [
    {
     "data": {
      "text/html": [
       "<div>\n",
       "<style scoped>\n",
       "    .dataframe tbody tr th:only-of-type {\n",
       "        vertical-align: middle;\n",
       "    }\n",
       "\n",
       "    .dataframe tbody tr th {\n",
       "        vertical-align: top;\n",
       "    }\n",
       "\n",
       "    .dataframe thead th {\n",
       "        text-align: right;\n",
       "    }\n",
       "</style>\n",
       "<table border=\"1\" class=\"dataframe\">\n",
       "  <thead>\n",
       "    <tr style=\"text-align: right;\">\n",
       "      <th></th>\n",
       "      <th>Inv_Id</th>\n",
       "      <th>Vendor_Code</th>\n",
       "      <th>GL_Code</th>\n",
       "      <th>Inv_Amt</th>\n",
       "      <th>Product_Category</th>\n",
       "    </tr>\n",
       "  </thead>\n",
       "  <tbody>\n",
       "    <tr>\n",
       "      <th>0</th>\n",
       "      <td>15001</td>\n",
       "      <td>VENDOR-1676</td>\n",
       "      <td>GL-6100410</td>\n",
       "      <td>83.24</td>\n",
       "      <td>CLASS-1963</td>\n",
       "    </tr>\n",
       "    <tr>\n",
       "      <th>1</th>\n",
       "      <td>15002</td>\n",
       "      <td>VENDOR-1883</td>\n",
       "      <td>GL-2182000</td>\n",
       "      <td>51.18</td>\n",
       "      <td>CLASS-1250</td>\n",
       "    </tr>\n",
       "    <tr>\n",
       "      <th>2</th>\n",
       "      <td>15004</td>\n",
       "      <td>VENDOR-1999</td>\n",
       "      <td>GL-6050100</td>\n",
       "      <td>79.02</td>\n",
       "      <td>CLASS-1274</td>\n",
       "    </tr>\n",
       "    <tr>\n",
       "      <th>3</th>\n",
       "      <td>15005</td>\n",
       "      <td>VENDOR-1771</td>\n",
       "      <td>GL-6101400</td>\n",
       "      <td>48.50</td>\n",
       "      <td>CLASS-1522</td>\n",
       "    </tr>\n",
       "    <tr>\n",
       "      <th>4</th>\n",
       "      <td>15006</td>\n",
       "      <td>VENDOR-1331</td>\n",
       "      <td>GL-2182000</td>\n",
       "      <td>63.35</td>\n",
       "      <td>CLASS-1376</td>\n",
       "    </tr>\n",
       "    <tr>\n",
       "      <th>5</th>\n",
       "      <td>15007</td>\n",
       "      <td>VENDOR-2076</td>\n",
       "      <td>GL-6101400</td>\n",
       "      <td>32.28</td>\n",
       "      <td>CLASS-1522</td>\n",
       "    </tr>\n",
       "    <tr>\n",
       "      <th>6</th>\n",
       "      <td>15009</td>\n",
       "      <td>VENDOR-1802</td>\n",
       "      <td>GL-6050310</td>\n",
       "      <td>5.38</td>\n",
       "      <td>CLASS-1758</td>\n",
       "    </tr>\n",
       "    <tr>\n",
       "      <th>7</th>\n",
       "      <td>15010</td>\n",
       "      <td>VENDOR-1191</td>\n",
       "      <td>GL-6101400</td>\n",
       "      <td>31.21</td>\n",
       "      <td>CLASS-1522</td>\n",
       "    </tr>\n",
       "    <tr>\n",
       "      <th>8</th>\n",
       "      <td>15011</td>\n",
       "      <td>VENDOR-2120</td>\n",
       "      <td>GL-6100410</td>\n",
       "      <td>42.89</td>\n",
       "      <td>CLASS-1963</td>\n",
       "    </tr>\n",
       "    <tr>\n",
       "      <th>9</th>\n",
       "      <td>15012</td>\n",
       "      <td>VENDOR-1704</td>\n",
       "      <td>GL-6050100</td>\n",
       "      <td>59.50</td>\n",
       "      <td>CLASS-1274</td>\n",
       "    </tr>\n",
       "    <tr>\n",
       "      <th>10</th>\n",
       "      <td>15014</td>\n",
       "      <td>VENDOR-2513</td>\n",
       "      <td>GL-6050310</td>\n",
       "      <td>69.85</td>\n",
       "      <td>CLASS-1758</td>\n",
       "    </tr>\n",
       "    <tr>\n",
       "      <th>11</th>\n",
       "      <td>15015</td>\n",
       "      <td>VENDOR-1433</td>\n",
       "      <td>GL-6050100</td>\n",
       "      <td>85.64</td>\n",
       "      <td>CLASS-1274</td>\n",
       "    </tr>\n",
       "    <tr>\n",
       "      <th>12</th>\n",
       "      <td>15016</td>\n",
       "      <td>VENDOR-1098</td>\n",
       "      <td>GL-6050100</td>\n",
       "      <td>35.64</td>\n",
       "      <td>CLASS-1274</td>\n",
       "    </tr>\n",
       "    <tr>\n",
       "      <th>13</th>\n",
       "      <td>15017</td>\n",
       "      <td>VENDOR-2352</td>\n",
       "      <td>GL-2182000</td>\n",
       "      <td>43.00</td>\n",
       "      <td>CLASS-2141</td>\n",
       "    </tr>\n",
       "    <tr>\n",
       "      <th>14</th>\n",
       "      <td>15018</td>\n",
       "      <td>VENDOR-1700</td>\n",
       "      <td>GL-6101400</td>\n",
       "      <td>93.67</td>\n",
       "      <td>CLASS-1522</td>\n",
       "    </tr>\n",
       "    <tr>\n",
       "      <th>15</th>\n",
       "      <td>15021</td>\n",
       "      <td>VENDOR-1065</td>\n",
       "      <td>GL-6050310</td>\n",
       "      <td>35.73</td>\n",
       "      <td>CLASS-1758</td>\n",
       "    </tr>\n",
       "    <tr>\n",
       "      <th>16</th>\n",
       "      <td>15023</td>\n",
       "      <td>VENDOR-1370</td>\n",
       "      <td>GL-6101400</td>\n",
       "      <td>94.67</td>\n",
       "      <td>CLASS-1522</td>\n",
       "    </tr>\n",
       "    <tr>\n",
       "      <th>17</th>\n",
       "      <td>15025</td>\n",
       "      <td>VENDOR-1376</td>\n",
       "      <td>GL-6050310</td>\n",
       "      <td>21.23</td>\n",
       "      <td>CLASS-1758</td>\n",
       "    </tr>\n",
       "    <tr>\n",
       "      <th>18</th>\n",
       "      <td>15030</td>\n",
       "      <td>VENDOR-2160</td>\n",
       "      <td>GL-6100410</td>\n",
       "      <td>9.03</td>\n",
       "      <td>CLASS-1963</td>\n",
       "    </tr>\n",
       "    <tr>\n",
       "      <th>19</th>\n",
       "      <td>15032</td>\n",
       "      <td>VENDOR-1114</td>\n",
       "      <td>GL-6050310</td>\n",
       "      <td>68.92</td>\n",
       "      <td>CLASS-1758</td>\n",
       "    </tr>\n",
       "    <tr>\n",
       "      <th>20</th>\n",
       "      <td>15033</td>\n",
       "      <td>VENDOR-1424</td>\n",
       "      <td>GL-6100410</td>\n",
       "      <td>78.78</td>\n",
       "      <td>CLASS-1429</td>\n",
       "    </tr>\n",
       "    <tr>\n",
       "      <th>21</th>\n",
       "      <td>15035</td>\n",
       "      <td>VENDOR-2478</td>\n",
       "      <td>GL-6060100</td>\n",
       "      <td>10.70</td>\n",
       "      <td>CLASS-1522</td>\n",
       "    </tr>\n",
       "    <tr>\n",
       "      <th>22</th>\n",
       "      <td>15036</td>\n",
       "      <td>VENDOR-2353</td>\n",
       "      <td>GL-6050100</td>\n",
       "      <td>21.01</td>\n",
       "      <td>CLASS-1274</td>\n",
       "    </tr>\n",
       "    <tr>\n",
       "      <th>23</th>\n",
       "      <td>15038</td>\n",
       "      <td>VENDOR-1312</td>\n",
       "      <td>GL-6060100</td>\n",
       "      <td>85.10</td>\n",
       "      <td>CLASS-1652</td>\n",
       "    </tr>\n",
       "    <tr>\n",
       "      <th>24</th>\n",
       "      <td>15040</td>\n",
       "      <td>VENDOR-2408</td>\n",
       "      <td>GL-6050310</td>\n",
       "      <td>29.76</td>\n",
       "      <td>CLASS-1758</td>\n",
       "    </tr>\n",
       "    <tr>\n",
       "      <th>25</th>\n",
       "      <td>15041</td>\n",
       "      <td>VENDOR-1181</td>\n",
       "      <td>GL-6050100</td>\n",
       "      <td>88.80</td>\n",
       "      <td>CLASS-1274</td>\n",
       "    </tr>\n",
       "    <tr>\n",
       "      <th>26</th>\n",
       "      <td>15042</td>\n",
       "      <td>VENDOR-1944</td>\n",
       "      <td>GL-2182000</td>\n",
       "      <td>94.48</td>\n",
       "      <td>CLASS-1249</td>\n",
       "    </tr>\n",
       "    <tr>\n",
       "      <th>27</th>\n",
       "      <td>15046</td>\n",
       "      <td>VENDOR-1883</td>\n",
       "      <td>GL-2182000</td>\n",
       "      <td>74.68</td>\n",
       "      <td>CLASS-1250</td>\n",
       "    </tr>\n",
       "    <tr>\n",
       "      <th>28</th>\n",
       "      <td>15047</td>\n",
       "      <td>VENDOR-1080</td>\n",
       "      <td>GL-6050310</td>\n",
       "      <td>8.50</td>\n",
       "      <td>CLASS-1758</td>\n",
       "    </tr>\n",
       "    <tr>\n",
       "      <th>29</th>\n",
       "      <td>15048</td>\n",
       "      <td>VENDOR-1873</td>\n",
       "      <td>GL-6050310</td>\n",
       "      <td>26.75</td>\n",
       "      <td>CLASS-1758</td>\n",
       "    </tr>\n",
       "    <tr>\n",
       "      <th>...</th>\n",
       "      <td>...</td>\n",
       "      <td>...</td>\n",
       "      <td>...</td>\n",
       "      <td>...</td>\n",
       "      <td>...</td>\n",
       "    </tr>\n",
       "    <tr>\n",
       "      <th>5536</th>\n",
       "      <td>22965</td>\n",
       "      <td>VENDOR-1691</td>\n",
       "      <td>GL-6050100</td>\n",
       "      <td>21.88</td>\n",
       "      <td>CLASS-1274</td>\n",
       "    </tr>\n",
       "    <tr>\n",
       "      <th>5537</th>\n",
       "      <td>22966</td>\n",
       "      <td>VENDOR-1957</td>\n",
       "      <td>GL-6050100</td>\n",
       "      <td>24.57</td>\n",
       "      <td>CLASS-1274</td>\n",
       "    </tr>\n",
       "    <tr>\n",
       "      <th>5538</th>\n",
       "      <td>22968</td>\n",
       "      <td>VENDOR-2286</td>\n",
       "      <td>GL-6050100</td>\n",
       "      <td>77.90</td>\n",
       "      <td>CLASS-1274</td>\n",
       "    </tr>\n",
       "    <tr>\n",
       "      <th>5539</th>\n",
       "      <td>22969</td>\n",
       "      <td>VENDOR-1944</td>\n",
       "      <td>GL-6050310</td>\n",
       "      <td>72.67</td>\n",
       "      <td>CLASS-1758</td>\n",
       "    </tr>\n",
       "    <tr>\n",
       "      <th>5540</th>\n",
       "      <td>22971</td>\n",
       "      <td>VENDOR-1944</td>\n",
       "      <td>GL-6050310</td>\n",
       "      <td>97.22</td>\n",
       "      <td>CLASS-1758</td>\n",
       "    </tr>\n",
       "    <tr>\n",
       "      <th>5541</th>\n",
       "      <td>22972</td>\n",
       "      <td>VENDOR-2047</td>\n",
       "      <td>GL-6100500</td>\n",
       "      <td>9.47</td>\n",
       "      <td>CLASS-1309</td>\n",
       "    </tr>\n",
       "    <tr>\n",
       "      <th>5542</th>\n",
       "      <td>22974</td>\n",
       "      <td>VENDOR-2362</td>\n",
       "      <td>GL-6050310</td>\n",
       "      <td>78.24</td>\n",
       "      <td>CLASS-1758</td>\n",
       "    </tr>\n",
       "    <tr>\n",
       "      <th>5543</th>\n",
       "      <td>22976</td>\n",
       "      <td>VENDOR-2408</td>\n",
       "      <td>GL-6050310</td>\n",
       "      <td>96.84</td>\n",
       "      <td>CLASS-1758</td>\n",
       "    </tr>\n",
       "    <tr>\n",
       "      <th>5544</th>\n",
       "      <td>22979</td>\n",
       "      <td>VENDOR-1211</td>\n",
       "      <td>GL-6050100</td>\n",
       "      <td>50.74</td>\n",
       "      <td>CLASS-1274</td>\n",
       "    </tr>\n",
       "    <tr>\n",
       "      <th>5545</th>\n",
       "      <td>22980</td>\n",
       "      <td>VENDOR-2120</td>\n",
       "      <td>GL-6100410</td>\n",
       "      <td>55.61</td>\n",
       "      <td>CLASS-1963</td>\n",
       "    </tr>\n",
       "    <tr>\n",
       "      <th>5546</th>\n",
       "      <td>22982</td>\n",
       "      <td>VENDOR-1069</td>\n",
       "      <td>GL-6050310</td>\n",
       "      <td>82.78</td>\n",
       "      <td>CLASS-1567</td>\n",
       "    </tr>\n",
       "    <tr>\n",
       "      <th>5547</th>\n",
       "      <td>22984</td>\n",
       "      <td>VENDOR-1554</td>\n",
       "      <td>GL-6100410</td>\n",
       "      <td>91.47</td>\n",
       "      <td>CLASS-1963</td>\n",
       "    </tr>\n",
       "    <tr>\n",
       "      <th>5548</th>\n",
       "      <td>22985</td>\n",
       "      <td>VENDOR-1254</td>\n",
       "      <td>GL-6101400</td>\n",
       "      <td>9.27</td>\n",
       "      <td>CLASS-1522</td>\n",
       "    </tr>\n",
       "    <tr>\n",
       "      <th>5549</th>\n",
       "      <td>22986</td>\n",
       "      <td>VENDOR-1234</td>\n",
       "      <td>GL-2182000</td>\n",
       "      <td>65.07</td>\n",
       "      <td>CLASS-2241</td>\n",
       "    </tr>\n",
       "    <tr>\n",
       "      <th>5550</th>\n",
       "      <td>22987</td>\n",
       "      <td>VENDOR-2478</td>\n",
       "      <td>GL-6060100</td>\n",
       "      <td>55.49</td>\n",
       "      <td>CLASS-1522</td>\n",
       "    </tr>\n",
       "    <tr>\n",
       "      <th>5551</th>\n",
       "      <td>22989</td>\n",
       "      <td>VENDOR-2220</td>\n",
       "      <td>GL-2182000</td>\n",
       "      <td>9.90</td>\n",
       "      <td>CLASS-2003</td>\n",
       "    </tr>\n",
       "    <tr>\n",
       "      <th>5552</th>\n",
       "      <td>22990</td>\n",
       "      <td>VENDOR-1075</td>\n",
       "      <td>GL-6101400</td>\n",
       "      <td>21.38</td>\n",
       "      <td>CLASS-2112</td>\n",
       "    </tr>\n",
       "    <tr>\n",
       "      <th>5553</th>\n",
       "      <td>22996</td>\n",
       "      <td>VENDOR-1693</td>\n",
       "      <td>GL-2182000</td>\n",
       "      <td>35.73</td>\n",
       "      <td>CLASS-1376</td>\n",
       "    </tr>\n",
       "    <tr>\n",
       "      <th>5554</th>\n",
       "      <td>22997</td>\n",
       "      <td>VENDOR-1883</td>\n",
       "      <td>GL-2182000</td>\n",
       "      <td>44.14</td>\n",
       "      <td>CLASS-1250</td>\n",
       "    </tr>\n",
       "    <tr>\n",
       "      <th>5555</th>\n",
       "      <td>22998</td>\n",
       "      <td>VENDOR-1513</td>\n",
       "      <td>GL-6050310</td>\n",
       "      <td>92.03</td>\n",
       "      <td>CLASS-1758</td>\n",
       "    </tr>\n",
       "    <tr>\n",
       "      <th>5556</th>\n",
       "      <td>22999</td>\n",
       "      <td>VENDOR-1070</td>\n",
       "      <td>GL-6060100</td>\n",
       "      <td>71.99</td>\n",
       "      <td>CLASS-1274</td>\n",
       "    </tr>\n",
       "    <tr>\n",
       "      <th>5557</th>\n",
       "      <td>23000</td>\n",
       "      <td>VENDOR-2140</td>\n",
       "      <td>GL-2182000</td>\n",
       "      <td>57.76</td>\n",
       "      <td>CLASS-1376</td>\n",
       "    </tr>\n",
       "    <tr>\n",
       "      <th>5558</th>\n",
       "      <td>23001</td>\n",
       "      <td>VENDOR-1069</td>\n",
       "      <td>GL-6050310</td>\n",
       "      <td>53.38</td>\n",
       "      <td>CLASS-1567</td>\n",
       "    </tr>\n",
       "    <tr>\n",
       "      <th>5559</th>\n",
       "      <td>23003</td>\n",
       "      <td>VENDOR-2408</td>\n",
       "      <td>GL-6050310</td>\n",
       "      <td>35.76</td>\n",
       "      <td>CLASS-1758</td>\n",
       "    </tr>\n",
       "    <tr>\n",
       "      <th>5560</th>\n",
       "      <td>23004</td>\n",
       "      <td>VENDOR-2117</td>\n",
       "      <td>GL-6101400</td>\n",
       "      <td>14.17</td>\n",
       "      <td>CLASS-1522</td>\n",
       "    </tr>\n",
       "    <tr>\n",
       "      <th>5561</th>\n",
       "      <td>23005</td>\n",
       "      <td>VENDOR-1736</td>\n",
       "      <td>GL-2182000</td>\n",
       "      <td>84.88</td>\n",
       "      <td>CLASS-1376</td>\n",
       "    </tr>\n",
       "    <tr>\n",
       "      <th>5562</th>\n",
       "      <td>23007</td>\n",
       "      <td>VENDOR-2226</td>\n",
       "      <td>GL-6050310</td>\n",
       "      <td>94.78</td>\n",
       "      <td>CLASS-1870</td>\n",
       "    </tr>\n",
       "    <tr>\n",
       "      <th>5563</th>\n",
       "      <td>23008</td>\n",
       "      <td>VENDOR-1036</td>\n",
       "      <td>GL-6100500</td>\n",
       "      <td>57.01</td>\n",
       "      <td>CLASS-1721</td>\n",
       "    </tr>\n",
       "    <tr>\n",
       "      <th>5564</th>\n",
       "      <td>23010</td>\n",
       "      <td>VENDOR-2442</td>\n",
       "      <td>GL-6060100</td>\n",
       "      <td>79.96</td>\n",
       "      <td>CLASS-1652</td>\n",
       "    </tr>\n",
       "    <tr>\n",
       "      <th>5565</th>\n",
       "      <td>23012</td>\n",
       "      <td>VENDOR-1802</td>\n",
       "      <td>GL-6050310</td>\n",
       "      <td>36.65</td>\n",
       "      <td>CLASS-1758</td>\n",
       "    </tr>\n",
       "  </tbody>\n",
       "</table>\n",
       "<p>5566 rows × 5 columns</p>\n",
       "</div>"
      ],
      "text/plain": [
       "      Inv_Id  Vendor_Code     GL_Code  Inv_Amt Product_Category\n",
       "0      15001  VENDOR-1676  GL-6100410    83.24       CLASS-1963\n",
       "1      15002  VENDOR-1883  GL-2182000    51.18       CLASS-1250\n",
       "2      15004  VENDOR-1999  GL-6050100    79.02       CLASS-1274\n",
       "3      15005  VENDOR-1771  GL-6101400    48.50       CLASS-1522\n",
       "4      15006  VENDOR-1331  GL-2182000    63.35       CLASS-1376\n",
       "5      15007  VENDOR-2076  GL-6101400    32.28       CLASS-1522\n",
       "6      15009  VENDOR-1802  GL-6050310     5.38       CLASS-1758\n",
       "7      15010  VENDOR-1191  GL-6101400    31.21       CLASS-1522\n",
       "8      15011  VENDOR-2120  GL-6100410    42.89       CLASS-1963\n",
       "9      15012  VENDOR-1704  GL-6050100    59.50       CLASS-1274\n",
       "10     15014  VENDOR-2513  GL-6050310    69.85       CLASS-1758\n",
       "11     15015  VENDOR-1433  GL-6050100    85.64       CLASS-1274\n",
       "12     15016  VENDOR-1098  GL-6050100    35.64       CLASS-1274\n",
       "13     15017  VENDOR-2352  GL-2182000    43.00       CLASS-2141\n",
       "14     15018  VENDOR-1700  GL-6101400    93.67       CLASS-1522\n",
       "15     15021  VENDOR-1065  GL-6050310    35.73       CLASS-1758\n",
       "16     15023  VENDOR-1370  GL-6101400    94.67       CLASS-1522\n",
       "17     15025  VENDOR-1376  GL-6050310    21.23       CLASS-1758\n",
       "18     15030  VENDOR-2160  GL-6100410     9.03       CLASS-1963\n",
       "19     15032  VENDOR-1114  GL-6050310    68.92       CLASS-1758\n",
       "20     15033  VENDOR-1424  GL-6100410    78.78       CLASS-1429\n",
       "21     15035  VENDOR-2478  GL-6060100    10.70       CLASS-1522\n",
       "22     15036  VENDOR-2353  GL-6050100    21.01       CLASS-1274\n",
       "23     15038  VENDOR-1312  GL-6060100    85.10       CLASS-1652\n",
       "24     15040  VENDOR-2408  GL-6050310    29.76       CLASS-1758\n",
       "25     15041  VENDOR-1181  GL-6050100    88.80       CLASS-1274\n",
       "26     15042  VENDOR-1944  GL-2182000    94.48       CLASS-1249\n",
       "27     15046  VENDOR-1883  GL-2182000    74.68       CLASS-1250\n",
       "28     15047  VENDOR-1080  GL-6050310     8.50       CLASS-1758\n",
       "29     15048  VENDOR-1873  GL-6050310    26.75       CLASS-1758\n",
       "...      ...          ...         ...      ...              ...\n",
       "5536   22965  VENDOR-1691  GL-6050100    21.88       CLASS-1274\n",
       "5537   22966  VENDOR-1957  GL-6050100    24.57       CLASS-1274\n",
       "5538   22968  VENDOR-2286  GL-6050100    77.90       CLASS-1274\n",
       "5539   22969  VENDOR-1944  GL-6050310    72.67       CLASS-1758\n",
       "5540   22971  VENDOR-1944  GL-6050310    97.22       CLASS-1758\n",
       "5541   22972  VENDOR-2047  GL-6100500     9.47       CLASS-1309\n",
       "5542   22974  VENDOR-2362  GL-6050310    78.24       CLASS-1758\n",
       "5543   22976  VENDOR-2408  GL-6050310    96.84       CLASS-1758\n",
       "5544   22979  VENDOR-1211  GL-6050100    50.74       CLASS-1274\n",
       "5545   22980  VENDOR-2120  GL-6100410    55.61       CLASS-1963\n",
       "5546   22982  VENDOR-1069  GL-6050310    82.78       CLASS-1567\n",
       "5547   22984  VENDOR-1554  GL-6100410    91.47       CLASS-1963\n",
       "5548   22985  VENDOR-1254  GL-6101400     9.27       CLASS-1522\n",
       "5549   22986  VENDOR-1234  GL-2182000    65.07       CLASS-2241\n",
       "5550   22987  VENDOR-2478  GL-6060100    55.49       CLASS-1522\n",
       "5551   22989  VENDOR-2220  GL-2182000     9.90       CLASS-2003\n",
       "5552   22990  VENDOR-1075  GL-6101400    21.38       CLASS-2112\n",
       "5553   22996  VENDOR-1693  GL-2182000    35.73       CLASS-1376\n",
       "5554   22997  VENDOR-1883  GL-2182000    44.14       CLASS-1250\n",
       "5555   22998  VENDOR-1513  GL-6050310    92.03       CLASS-1758\n",
       "5556   22999  VENDOR-1070  GL-6060100    71.99       CLASS-1274\n",
       "5557   23000  VENDOR-2140  GL-2182000    57.76       CLASS-1376\n",
       "5558   23001  VENDOR-1069  GL-6050310    53.38       CLASS-1567\n",
       "5559   23003  VENDOR-2408  GL-6050310    35.76       CLASS-1758\n",
       "5560   23004  VENDOR-2117  GL-6101400    14.17       CLASS-1522\n",
       "5561   23005  VENDOR-1736  GL-2182000    84.88       CLASS-1376\n",
       "5562   23007  VENDOR-2226  GL-6050310    94.78       CLASS-1870\n",
       "5563   23008  VENDOR-1036  GL-6100500    57.01       CLASS-1721\n",
       "5564   23010  VENDOR-2442  GL-6060100    79.96       CLASS-1652\n",
       "5565   23012  VENDOR-1802  GL-6050310    36.65       CLASS-1758\n",
       "\n",
       "[5566 rows x 5 columns]"
      ]
     },
     "execution_count": 18,
     "metadata": {},
     "output_type": "execute_result"
    }
   ],
   "source": [
    "train_new=train.drop(['Item_Description'], axis=1)\n",
    "train_new"
   ]
  },
  {
   "cell_type": "code",
   "execution_count": 19,
   "metadata": {
    "collapsed": false,
    "scrolled": true
   },
   "outputs": [
    {
     "data": {
      "text/html": [
       "<div>\n",
       "<style scoped>\n",
       "    .dataframe tbody tr th:only-of-type {\n",
       "        vertical-align: middle;\n",
       "    }\n",
       "\n",
       "    .dataframe tbody tr th {\n",
       "        vertical-align: top;\n",
       "    }\n",
       "\n",
       "    .dataframe thead th {\n",
       "        text-align: right;\n",
       "    }\n",
       "</style>\n",
       "<table border=\"1\" class=\"dataframe\">\n",
       "  <thead>\n",
       "    <tr style=\"text-align: right;\">\n",
       "      <th></th>\n",
       "      <th>Inv_Id</th>\n",
       "      <th>Vendor_Code</th>\n",
       "      <th>GL_Code</th>\n",
       "      <th>Inv_Amt</th>\n",
       "      <th>Product_Category</th>\n",
       "    </tr>\n",
       "  </thead>\n",
       "  <tbody>\n",
       "    <tr>\n",
       "      <th>0</th>\n",
       "      <td>15001</td>\n",
       "      <td>1676</td>\n",
       "      <td>GL-6100410</td>\n",
       "      <td>83.24</td>\n",
       "      <td>CLASS-1963</td>\n",
       "    </tr>\n",
       "    <tr>\n",
       "      <th>1</th>\n",
       "      <td>15002</td>\n",
       "      <td>1883</td>\n",
       "      <td>GL-2182000</td>\n",
       "      <td>51.18</td>\n",
       "      <td>CLASS-1250</td>\n",
       "    </tr>\n",
       "    <tr>\n",
       "      <th>2</th>\n",
       "      <td>15004</td>\n",
       "      <td>1999</td>\n",
       "      <td>GL-6050100</td>\n",
       "      <td>79.02</td>\n",
       "      <td>CLASS-1274</td>\n",
       "    </tr>\n",
       "    <tr>\n",
       "      <th>3</th>\n",
       "      <td>15005</td>\n",
       "      <td>1771</td>\n",
       "      <td>GL-6101400</td>\n",
       "      <td>48.50</td>\n",
       "      <td>CLASS-1522</td>\n",
       "    </tr>\n",
       "    <tr>\n",
       "      <th>4</th>\n",
       "      <td>15006</td>\n",
       "      <td>1331</td>\n",
       "      <td>GL-2182000</td>\n",
       "      <td>63.35</td>\n",
       "      <td>CLASS-1376</td>\n",
       "    </tr>\n",
       "  </tbody>\n",
       "</table>\n",
       "</div>"
      ],
      "text/plain": [
       "   Inv_Id Vendor_Code     GL_Code  Inv_Amt Product_Category\n",
       "0   15001        1676  GL-6100410    83.24       CLASS-1963\n",
       "1   15002        1883  GL-2182000    51.18       CLASS-1250\n",
       "2   15004        1999  GL-6050100    79.02       CLASS-1274\n",
       "3   15005        1771  GL-6101400    48.50       CLASS-1522\n",
       "4   15006        1331  GL-2182000    63.35       CLASS-1376"
      ]
     },
     "execution_count": 19,
     "metadata": {},
     "output_type": "execute_result"
    }
   ],
   "source": [
    "train_new['Vendor_Code'] = train_new['Vendor_Code'] .map(lambda x: x.lstrip('VENDOR-'))\n",
    "train_new.head()"
   ]
  },
  {
   "cell_type": "code",
   "execution_count": 20,
   "metadata": {
    "collapsed": false,
    "scrolled": true
   },
   "outputs": [
    {
     "data": {
      "text/html": [
       "<div>\n",
       "<style scoped>\n",
       "    .dataframe tbody tr th:only-of-type {\n",
       "        vertical-align: middle;\n",
       "    }\n",
       "\n",
       "    .dataframe tbody tr th {\n",
       "        vertical-align: top;\n",
       "    }\n",
       "\n",
       "    .dataframe thead th {\n",
       "        text-align: right;\n",
       "    }\n",
       "</style>\n",
       "<table border=\"1\" class=\"dataframe\">\n",
       "  <thead>\n",
       "    <tr style=\"text-align: right;\">\n",
       "      <th></th>\n",
       "      <th>Inv_Id</th>\n",
       "      <th>Vendor_Code</th>\n",
       "      <th>GL_Code</th>\n",
       "      <th>Inv_Amt</th>\n",
       "      <th>Product_Category</th>\n",
       "    </tr>\n",
       "  </thead>\n",
       "  <tbody>\n",
       "    <tr>\n",
       "      <th>0</th>\n",
       "      <td>15001</td>\n",
       "      <td>1676</td>\n",
       "      <td>6100410</td>\n",
       "      <td>83.24</td>\n",
       "      <td>CLASS-1963</td>\n",
       "    </tr>\n",
       "    <tr>\n",
       "      <th>1</th>\n",
       "      <td>15002</td>\n",
       "      <td>1883</td>\n",
       "      <td>2182000</td>\n",
       "      <td>51.18</td>\n",
       "      <td>CLASS-1250</td>\n",
       "    </tr>\n",
       "    <tr>\n",
       "      <th>2</th>\n",
       "      <td>15004</td>\n",
       "      <td>1999</td>\n",
       "      <td>6050100</td>\n",
       "      <td>79.02</td>\n",
       "      <td>CLASS-1274</td>\n",
       "    </tr>\n",
       "    <tr>\n",
       "      <th>3</th>\n",
       "      <td>15005</td>\n",
       "      <td>1771</td>\n",
       "      <td>6101400</td>\n",
       "      <td>48.50</td>\n",
       "      <td>CLASS-1522</td>\n",
       "    </tr>\n",
       "    <tr>\n",
       "      <th>4</th>\n",
       "      <td>15006</td>\n",
       "      <td>1331</td>\n",
       "      <td>2182000</td>\n",
       "      <td>63.35</td>\n",
       "      <td>CLASS-1376</td>\n",
       "    </tr>\n",
       "  </tbody>\n",
       "</table>\n",
       "</div>"
      ],
      "text/plain": [
       "   Inv_Id Vendor_Code  GL_Code  Inv_Amt Product_Category\n",
       "0   15001        1676  6100410    83.24       CLASS-1963\n",
       "1   15002        1883  2182000    51.18       CLASS-1250\n",
       "2   15004        1999  6050100    79.02       CLASS-1274\n",
       "3   15005        1771  6101400    48.50       CLASS-1522\n",
       "4   15006        1331  2182000    63.35       CLASS-1376"
      ]
     },
     "execution_count": 20,
     "metadata": {},
     "output_type": "execute_result"
    }
   ],
   "source": [
    "train_new['GL_Code'] = train_new['GL_Code'] .map(lambda x: x.lstrip('GL-'))\n",
    "train_new.head()"
   ]
  },
  {
   "cell_type": "code",
   "execution_count": 21,
   "metadata": {
    "collapsed": false
   },
   "outputs": [
    {
     "data": {
      "text/html": [
       "<div>\n",
       "<style scoped>\n",
       "    .dataframe tbody tr th:only-of-type {\n",
       "        vertical-align: middle;\n",
       "    }\n",
       "\n",
       "    .dataframe tbody tr th {\n",
       "        vertical-align: top;\n",
       "    }\n",
       "\n",
       "    .dataframe thead th {\n",
       "        text-align: right;\n",
       "    }\n",
       "</style>\n",
       "<table border=\"1\" class=\"dataframe\">\n",
       "  <thead>\n",
       "    <tr style=\"text-align: right;\">\n",
       "      <th></th>\n",
       "      <th>Inv_Id</th>\n",
       "      <th>Vendor_Code</th>\n",
       "      <th>GL_Code</th>\n",
       "      <th>Inv_Amt</th>\n",
       "      <th>Product_Category</th>\n",
       "    </tr>\n",
       "  </thead>\n",
       "  <tbody>\n",
       "    <tr>\n",
       "      <th>0</th>\n",
       "      <td>15001</td>\n",
       "      <td>1676</td>\n",
       "      <td>6100410</td>\n",
       "      <td>83.24</td>\n",
       "      <td>1963</td>\n",
       "    </tr>\n",
       "    <tr>\n",
       "      <th>1</th>\n",
       "      <td>15002</td>\n",
       "      <td>1883</td>\n",
       "      <td>2182000</td>\n",
       "      <td>51.18</td>\n",
       "      <td>1250</td>\n",
       "    </tr>\n",
       "    <tr>\n",
       "      <th>2</th>\n",
       "      <td>15004</td>\n",
       "      <td>1999</td>\n",
       "      <td>6050100</td>\n",
       "      <td>79.02</td>\n",
       "      <td>1274</td>\n",
       "    </tr>\n",
       "    <tr>\n",
       "      <th>3</th>\n",
       "      <td>15005</td>\n",
       "      <td>1771</td>\n",
       "      <td>6101400</td>\n",
       "      <td>48.50</td>\n",
       "      <td>1522</td>\n",
       "    </tr>\n",
       "    <tr>\n",
       "      <th>4</th>\n",
       "      <td>15006</td>\n",
       "      <td>1331</td>\n",
       "      <td>2182000</td>\n",
       "      <td>63.35</td>\n",
       "      <td>1376</td>\n",
       "    </tr>\n",
       "  </tbody>\n",
       "</table>\n",
       "</div>"
      ],
      "text/plain": [
       "   Inv_Id Vendor_Code  GL_Code  Inv_Amt Product_Category\n",
       "0   15001        1676  6100410    83.24             1963\n",
       "1   15002        1883  2182000    51.18             1250\n",
       "2   15004        1999  6050100    79.02             1274\n",
       "3   15005        1771  6101400    48.50             1522\n",
       "4   15006        1331  2182000    63.35             1376"
      ]
     },
     "execution_count": 21,
     "metadata": {},
     "output_type": "execute_result"
    }
   ],
   "source": [
    "train_new['Product_Category'] = train_new['Product_Category'] .map(lambda x: x.lstrip('CLASS-'))\n",
    "train_new.head()"
   ]
  },
  {
   "cell_type": "markdown",
   "metadata": {},
   "source": [
    "### Now we have all numeric data and we can do modelling and prddiction"
   ]
  },
  {
   "cell_type": "markdown",
   "metadata": {},
   "source": [
    "### lets make heatmap matrix plot to know correlation b/w different variables"
   ]
  },
  {
   "cell_type": "code",
   "execution_count": 22,
   "metadata": {
    "collapsed": true
   },
   "outputs": [],
   "source": [
    "matrix=train_new.corr()"
   ]
  },
  {
   "cell_type": "code",
   "execution_count": 23,
   "metadata": {
    "collapsed": false,
    "scrolled": true
   },
   "outputs": [
    {
     "data": {
      "text/plain": [
       "<matplotlib.axes._subplots.AxesSubplot at 0x7f2aec72e0b8>"
      ]
     },
     "execution_count": 23,
     "metadata": {},
     "output_type": "execute_result"
    },
    {
     "data": {
      "image/png": "[encoded data removed]",
      "text/plain": [
       "<matplotlib.figure.Figure at 0x7f2aeca67c88>"
      ]
     },
     "metadata": {},
     "output_type": "display_data"
    }
   ],
   "source": [
    "relation=plt.subplots(figsize=(9,8))\n",
    "%matplotlib inline\n",
    "sns.heatmap(matrix, square=True, cmap=\"BuPu\", vmin=0.0, vmax= 1.0)"
   ]
  },
  {
   "cell_type": "markdown",
   "metadata": {},
   "source": [
    "### No wrong or missing values till now in our dataset so moving further towrds building a model"
   ]
  },
  {
   "cell_type": "markdown",
   "metadata": {},
   "source": [
    "### lets do modelling"
   ]
  },
  {
   "cell_type": "code",
   "execution_count": 24,
   "metadata": {
    "collapsed": false
   },
   "outputs": [],
   "source": [
    "features=['Inv_Id', 'Vendor_Code', 'GL_Code', 'Inv_Amt']"
   ]
  },
  {
   "cell_type": "code",
   "execution_count": 25,
   "metadata": {
    "collapsed": false
   },
   "outputs": [
    {
     "data": {
      "text/html": [
       "<div>\n",
       "<style scoped>\n",
       "    .dataframe tbody tr th:only-of-type {\n",
       "        vertical-align: middle;\n",
       "    }\n",
       "\n",
       "    .dataframe tbody tr th {\n",
       "        vertical-align: top;\n",
       "    }\n",
       "\n",
       "    .dataframe thead th {\n",
       "        text-align: right;\n",
       "    }\n",
       "</style>\n",
       "<table border=\"1\" class=\"dataframe\">\n",
       "  <thead>\n",
       "    <tr style=\"text-align: right;\">\n",
       "      <th></th>\n",
       "      <th>Inv_Id</th>\n",
       "      <th>Vendor_Code</th>\n",
       "      <th>GL_Code</th>\n",
       "      <th>Inv_Amt</th>\n",
       "    </tr>\n",
       "  </thead>\n",
       "  <tbody>\n",
       "    <tr>\n",
       "      <th>0</th>\n",
       "      <td>15001</td>\n",
       "      <td>1676</td>\n",
       "      <td>6100410</td>\n",
       "      <td>83.24</td>\n",
       "    </tr>\n",
       "    <tr>\n",
       "      <th>1</th>\n",
       "      <td>15002</td>\n",
       "      <td>1883</td>\n",
       "      <td>2182000</td>\n",
       "      <td>51.18</td>\n",
       "    </tr>\n",
       "    <tr>\n",
       "      <th>2</th>\n",
       "      <td>15004</td>\n",
       "      <td>1999</td>\n",
       "      <td>6050100</td>\n",
       "      <td>79.02</td>\n",
       "    </tr>\n",
       "    <tr>\n",
       "      <th>3</th>\n",
       "      <td>15005</td>\n",
       "      <td>1771</td>\n",
       "      <td>6101400</td>\n",
       "      <td>48.50</td>\n",
       "    </tr>\n",
       "    <tr>\n",
       "      <th>4</th>\n",
       "      <td>15006</td>\n",
       "      <td>1331</td>\n",
       "      <td>2182000</td>\n",
       "      <td>63.35</td>\n",
       "    </tr>\n",
       "  </tbody>\n",
       "</table>\n",
       "</div>"
      ],
      "text/plain": [
       "   Inv_Id Vendor_Code  GL_Code  Inv_Amt\n",
       "0   15001        1676  6100410    83.24\n",
       "1   15002        1883  2182000    51.18\n",
       "2   15004        1999  6050100    79.02\n",
       "3   15005        1771  6101400    48.50\n",
       "4   15006        1331  2182000    63.35"
      ]
     },
     "execution_count": 25,
     "metadata": {},
     "output_type": "execute_result"
    }
   ],
   "source": [
    "x=train_new[features] # independent variables\n",
    "x.head()"
   ]
  },
  {
   "cell_type": "code",
   "execution_count": 26,
   "metadata": {
    "collapsed": false,
    "scrolled": true
   },
   "outputs": [
    {
     "data": {
      "text/plain": [
       "0    1963\n",
       "1    1250\n",
       "2    1274\n",
       "3    1522\n",
       "4    1376\n",
       "Name: Product_Category, dtype: object"
      ]
     },
     "execution_count": 26,
     "metadata": {},
     "output_type": "execute_result"
    }
   ],
   "source": [
    "y=train_new['Product_Category'] #dependent/target variable\n",
    "y.head()"
   ]
  },
  {
   "cell_type": "markdown",
   "metadata": {},
   "source": [
    "# Modelling with Random forest regressor"
   ]
  },
  {
   "cell_type": "code",
   "execution_count": 27,
   "metadata": {
    "collapsed": false
   },
   "outputs": [],
   "source": [
    "from sklearn.ensemble import RandomForestRegressor\n",
    "from sklearn.model_selection import train_test_split"
   ]
  },
  {
   "cell_type": "code",
   "execution_count": 122,
   "metadata": {
    "collapsed": false
   },
   "outputs": [],
   "source": [
    "model=RandomForestRegressor(max_depth=30, random_state = 0)"
   ]
  },
  {
   "cell_type": "code",
   "execution_count": 123,
   "metadata": {
    "collapsed": false
   },
   "outputs": [],
   "source": [
    "x_train_new, x_test, y_train_new, y_test = train_test_split(x, y, random_state=42, test_size=0.3)"
   ]
  },
  {
   "cell_type": "code",
   "execution_count": 124,
   "metadata": {
    "collapsed": false,
    "scrolled": false
   },
   "outputs": [
    {
     "data": {
      "text/plain": [
       "RandomForestRegressor(bootstrap=True, criterion='mse', max_depth=30,\n",
       "           max_features='auto', max_leaf_nodes=None,\n",
       "           min_impurity_decrease=0.0, min_impurity_split=None,\n",
       "           min_samples_leaf=1, min_samples_split=2,\n",
       "           min_weight_fraction_leaf=0.0, n_estimators=10, n_jobs=1,\n",
       "           oob_score=False, random_state=0, verbose=0, warm_start=False)"
      ]
     },
     "execution_count": 124,
     "metadata": {},
     "output_type": "execute_result"
    }
   ],
   "source": [
    "model.fit(x_train_new,y_train_new)"
   ]
  },
  {
   "cell_type": "markdown",
   "metadata": {},
   "source": [
    "### Model parameters study"
   ]
  },
  {
   "cell_type": "code",
   "execution_count": 125,
   "metadata": {
    "collapsed": true
   },
   "outputs": [],
   "source": [
    "from sklearn.metrics import mean_squared_error, r2_score"
   ]
  },
  {
   "cell_type": "code",
   "execution_count": 126,
   "metadata": {
    "collapsed": false
   },
   "outputs": [
    {
     "data": {
      "text/plain": [
       "0.9524015726332743"
      ]
     },
     "execution_count": 126,
     "metadata": {},
     "output_type": "execute_result"
    }
   ],
   "source": [
    "model_score = model.score(x_train_new,y_train_new)\n",
    "model_score "
   ]
  },
  {
   "cell_type": "code",
   "execution_count": 127,
   "metadata": {
    "collapsed": false
   },
   "outputs": [
    {
     "name": "stdout",
     "output_type": "stream",
     "text": [
      "coefficient of determination R^2 of the prediction.:  0.9524015726332743\n"
     ]
    }
   ],
   "source": [
    "print( 'coefficient of determination R^2 of the prediction.: ',model_score)\n",
    "y_pred = model.predict(x_test)"
   ]
  },
  {
   "cell_type": "markdown",
   "metadata": {},
   "source": [
    "### Best cofficient of r square is 1. and we have 95% which is pretty good.\n",
    "### Model score is also 95% which is good enough to procedd in further processing"
   ]
  },
  {
   "cell_type": "code",
   "execution_count": 128,
   "metadata": {
    "collapsed": false
   },
   "outputs": [
    {
     "name": "stdout",
     "output_type": "stream",
     "text": [
      "Mean squared error: 19984.14\n"
     ]
    }
   ],
   "source": [
    "# The mean squared error\n",
    "print(\"Mean squared error: %.2f\"% mean_squared_error(y_test, y_pred))"
   ]
  },
  {
   "cell_type": "markdown",
   "metadata": {
    "collapsed": true
   },
   "source": [
    "### This MSE is higher due to presence of outliers in data"
   ]
  },
  {
   "cell_type": "code",
   "execution_count": 129,
   "metadata": {
    "collapsed": false,
    "scrolled": true
   },
   "outputs": [
    {
     "name": "stdout",
     "output_type": "stream",
     "text": [
      "Test Variance score: 0.70\n"
     ]
    }
   ],
   "source": [
    "# Explained variance score: 1 is perfect prediction\n",
    "print('Test Variance score: %.2f' % r2_score(y_test, y_pred))"
   ]
  },
  {
   "cell_type": "markdown",
   "metadata": {},
   "source": [
    "### Best variance of score is 1. and we have 70% "
   ]
  },
  {
   "cell_type": "markdown",
   "metadata": {},
   "source": [
    "### Accuracy report with test data :"
   ]
  },
  {
   "cell_type": "code",
   "execution_count": 130,
   "metadata": {
    "collapsed": false,
    "scrolled": true
   },
   "outputs": [
    {
     "data": {
      "image/png": "[encoded data removed]",
      "text/plain": [
       "<matplotlib.figure.Figure at 0x7f2ad8bcf630>"
      ]
     },
     "metadata": {},
     "output_type": "display_data"
    }
   ],
   "source": [
    "# So let's run the model against the test data\n",
    "from sklearn.model_selection import cross_val_predict\n",
    "\n",
    "fig, ax = plt.subplots()\n",
    "ax.scatter(y_test, y_pred, edgecolors=(0, 0, 0))\n",
    "ax.plot([y_test.min(), y_test.max()], [y_test.min(), y_test.max()], 'k--', lw=4)\n",
    "ax.set_xlabel('Actual')\n",
    "ax.set_ylabel('Predicted')\n",
    "ax.set_title(\"Ground Truth vs Predicted\")\n",
    "plt.show()"
   ]
  },
  {
   "cell_type": "markdown",
   "metadata": {},
   "source": [
    "### This approach is fitted in model pretty good but there are some outliers which leads to high MSE."
   ]
  },
  {
   "cell_type": "markdown",
   "metadata": {},
   "source": [
    "### Experimenting with variable item_description as independent variable"
   ]
  },
  {
   "cell_type": "code",
   "execution_count": 131,
   "metadata": {
    "collapsed": true
   },
   "outputs": [],
   "source": [
    "df=pd.read_csv(\"/resources/data/Train1.csv\")"
   ]
  },
  {
   "cell_type": "code",
   "execution_count": 132,
   "metadata": {
    "collapsed": true
   },
   "outputs": [],
   "source": [
    "df2=pd.read_csv(\"/resources/data/Test1.csv\")"
   ]
  },
  {
   "cell_type": "code",
   "execution_count": 133,
   "metadata": {
    "collapsed": false,
    "scrolled": true
   },
   "outputs": [
    {
     "data": {
      "text/html": [
       "<div>\n",
       "<style scoped>\n",
       "    .dataframe tbody tr th:only-of-type {\n",
       "        vertical-align: middle;\n",
       "    }\n",
       "\n",
       "    .dataframe tbody tr th {\n",
       "        vertical-align: top;\n",
       "    }\n",
       "\n",
       "    .dataframe thead th {\n",
       "        text-align: right;\n",
       "    }\n",
       "</style>\n",
       "<table border=\"1\" class=\"dataframe\">\n",
       "  <thead>\n",
       "    <tr style=\"text-align: right;\">\n",
       "      <th></th>\n",
       "      <th>Inv_Id</th>\n",
       "      <th>Vendor_Code</th>\n",
       "      <th>GL_Code</th>\n",
       "      <th>Inv_Amt</th>\n",
       "      <th>Item_Description</th>\n",
       "      <th>Product_Category</th>\n",
       "    </tr>\n",
       "  </thead>\n",
       "  <tbody>\n",
       "    <tr>\n",
       "      <th>0</th>\n",
       "      <td>15001</td>\n",
       "      <td>VENDOR-1676</td>\n",
       "      <td>GL-6100410</td>\n",
       "      <td>83.24</td>\n",
       "      <td>Artworking/Typesetting Production Jun 2009 Cha...</td>\n",
       "      <td>CLASS-1963</td>\n",
       "    </tr>\n",
       "    <tr>\n",
       "      <th>1</th>\n",
       "      <td>15002</td>\n",
       "      <td>VENDOR-1883</td>\n",
       "      <td>GL-2182000</td>\n",
       "      <td>51.18</td>\n",
       "      <td>Auto Leasing Corporate Services Corning Inc /N...</td>\n",
       "      <td>CLASS-1250</td>\n",
       "    </tr>\n",
       "    <tr>\n",
       "      <th>2</th>\n",
       "      <td>15004</td>\n",
       "      <td>VENDOR-1999</td>\n",
       "      <td>GL-6050100</td>\n",
       "      <td>79.02</td>\n",
       "      <td>Store Management Lease/Rent Deltona Corp Real ...</td>\n",
       "      <td>CLASS-1274</td>\n",
       "    </tr>\n",
       "    <tr>\n",
       "      <th>3</th>\n",
       "      <td>15005</td>\n",
       "      <td>VENDOR-1771</td>\n",
       "      <td>GL-6101400</td>\n",
       "      <td>48.50</td>\n",
       "      <td>Store Construction General Requirements Coloni...</td>\n",
       "      <td>CLASS-1522</td>\n",
       "    </tr>\n",
       "    <tr>\n",
       "      <th>4</th>\n",
       "      <td>15006</td>\n",
       "      <td>VENDOR-1331</td>\n",
       "      <td>GL-2182000</td>\n",
       "      <td>63.35</td>\n",
       "      <td>Jul 2015 Aydin Corp Contingent Labor/Temp Labo...</td>\n",
       "      <td>CLASS-1376</td>\n",
       "    </tr>\n",
       "  </tbody>\n",
       "</table>\n",
       "</div>"
      ],
      "text/plain": [
       "   Inv_Id  Vendor_Code     GL_Code  Inv_Amt  \\\n",
       "0   15001  VENDOR-1676  GL-6100410    83.24   \n",
       "1   15002  VENDOR-1883  GL-2182000    51.18   \n",
       "2   15004  VENDOR-1999  GL-6050100    79.02   \n",
       "3   15005  VENDOR-1771  GL-6101400    48.50   \n",
       "4   15006  VENDOR-1331  GL-2182000    63.35   \n",
       "\n",
       "                                    Item_Description Product_Category  \n",
       "0  Artworking/Typesetting Production Jun 2009 Cha...       CLASS-1963  \n",
       "1  Auto Leasing Corporate Services Corning Inc /N...       CLASS-1250  \n",
       "2  Store Management Lease/Rent Deltona Corp Real ...       CLASS-1274  \n",
       "3  Store Construction General Requirements Coloni...       CLASS-1522  \n",
       "4  Jul 2015 Aydin Corp Contingent Labor/Temp Labo...       CLASS-1376  "
      ]
     },
     "execution_count": 133,
     "metadata": {},
     "output_type": "execute_result"
    }
   ],
   "source": [
    "df.head()"
   ]
  },
  {
   "cell_type": "code",
   "execution_count": 134,
   "metadata": {
    "collapsed": false
   },
   "outputs": [
    {
     "data": {
      "text/plain": [
       "(5566, 6)"
      ]
     },
     "execution_count": 134,
     "metadata": {},
     "output_type": "execute_result"
    }
   ],
   "source": [
    "df.shape"
   ]
  },
  {
   "cell_type": "code",
   "execution_count": 135,
   "metadata": {
    "collapsed": false
   },
   "outputs": [
    {
     "data": {
      "text/plain": [
       "(2446, 5)"
      ]
     },
     "execution_count": 135,
     "metadata": {},
     "output_type": "execute_result"
    }
   ],
   "source": [
    "df2.shape"
   ]
  },
  {
   "cell_type": "markdown",
   "metadata": {},
   "source": [
    "### Extracting Features from data\n",
    "### To analyze a preprocessed data, it needs to be converted into features. Depending upon the usage, text features can be constructed using assorted techniques – Bag-of-Words, TF-IDF, and Word Embeddings. In this, we will be covering only Bag-of-Words and TF-IDF."
   ]
  },
  {
   "cell_type": "markdown",
   "metadata": {
    "collapsed": true
   },
   "source": [
    "### bag of words "
   ]
  },
  {
   "cell_type": "code",
   "execution_count": 136,
   "metadata": {
    "collapsed": false
   },
   "outputs": [
    {
     "data": {
      "text/plain": [
       "<5566x1000 sparse matrix of type '<class 'numpy.int64'>'\n",
       "\twith 61958 stored elements in Compressed Sparse Row format>"
      ]
     },
     "execution_count": 136,
     "metadata": {},
     "output_type": "execute_result"
    }
   ],
   "source": [
    "from sklearn.feature_extraction.text import CountVectorizer\n",
    "bow_vectorizer = CountVectorizer(max_df=0.90, min_df=2, max_features=1000, stop_words='english')\n",
    "# bag-of-words feature matrix\n",
    "bow = bow_vectorizer.fit_transform(df['Item_Description'])\n",
    "bow"
   ]
  },
  {
   "cell_type": "code",
   "execution_count": 137,
   "metadata": {
    "collapsed": false,
    "scrolled": true
   },
   "outputs": [
    {
     "data": {
      "text/plain": [
       "<5566x1000 sparse matrix of type '<class 'numpy.float64'>'\n",
       "\twith 61958 stored elements in Compressed Sparse Row format>"
      ]
     },
     "execution_count": 137,
     "metadata": {},
     "output_type": "execute_result"
    }
   ],
   "source": [
    "from sklearn.feature_extraction.text import TfidfVectorizer\n",
    "tfidf_vectorizer = TfidfVectorizer(max_df=0.90, min_df=2, max_features=1000, stop_words='english')\n",
    "# TF-IDF feature matrix\n",
    "tfidf = tfidf_vectorizer.fit_transform(df['Item_Description'])\n",
    "tfidf"
   ]
  },
  {
   "cell_type": "markdown",
   "metadata": {},
   "source": [
    "## Natural Language Processing: Feature Engineering using BoW and TFIDF approaches.\n",
    "### Natural Language Processing (NLP) is a sub-field of artificial intelligence that deals understanding and processing human language."
   ]
  },
  {
   "cell_type": "markdown",
   "metadata": {
    "collapsed": true
   },
   "source": [
    "###  Model Building(Random Forest Regressor)\n",
    "### 1.) Building model using Bag-of-Words features"
   ]
  },
  {
   "cell_type": "code",
   "execution_count": 138,
   "metadata": {
    "collapsed": true
   },
   "outputs": [],
   "source": [
    "from sklearn.ensemble import RandomForestRegressor\n",
    "from sklearn.model_selection import train_test_split\n",
    "from sklearn.metrics import f1_score"
   ]
  },
  {
   "cell_type": "code",
   "execution_count": 139,
   "metadata": {
    "collapsed": false
   },
   "outputs": [],
   "source": [
    "df_bow = bow[:5566,:]\n",
    "df2_bow = bow[2446:,:]\n",
    "\n",
    "# splitting data into training and validation set\n",
    "xdf_bow, xvalid_bow, ydf, yvalid = train_test_split(df_bow, y, random_state=42, test_size=0.3)"
   ]
  },
  {
   "cell_type": "code",
   "execution_count": 140,
   "metadata": {
    "collapsed": false
   },
   "outputs": [
    {
     "data": {
      "text/plain": [
       "RandomForestRegressor(bootstrap=True, criterion='mse', max_depth=None,\n",
       "           max_features='auto', max_leaf_nodes=None,\n",
       "           min_impurity_decrease=0.0, min_impurity_split=None,\n",
       "           min_samples_leaf=1, min_samples_split=2,\n",
       "           min_weight_fraction_leaf=0.0, n_estimators=10, n_jobs=1,\n",
       "           oob_score=False, random_state=None, verbose=0, warm_start=False)"
      ]
     },
     "execution_count": 140,
     "metadata": {},
     "output_type": "execute_result"
    }
   ],
   "source": [
    "model1=RandomForestRegressor()\n",
    "model1.fit(xdf_bow, ydf) # training the model"
   ]
  },
  {
   "cell_type": "code",
   "execution_count": 141,
   "metadata": {
    "collapsed": false
   },
   "outputs": [
    {
     "data": {
      "text/plain": [
       "array([1758., 1758., 1758., ..., 1274., 2141., 1250.])"
      ]
     },
     "execution_count": 141,
     "metadata": {},
     "output_type": "execute_result"
    }
   ],
   "source": [
    "y_pred=model1.predict(xvalid_bow)\n",
    "y_pred"
   ]
  },
  {
   "cell_type": "code",
   "execution_count": 142,
   "metadata": {
    "collapsed": false
   },
   "outputs": [
    {
     "data": {
      "text/plain": [
       "0.9524015726332743"
      ]
     },
     "execution_count": 142,
     "metadata": {},
     "output_type": "execute_result"
    }
   ],
   "source": [
    "model1_score = model1.score(xdf_bow,ydf)\n",
    "model_score "
   ]
  },
  {
   "cell_type": "code",
   "execution_count": 143,
   "metadata": {
    "collapsed": false
   },
   "outputs": [
    {
     "name": "stdout",
     "output_type": "stream",
     "text": [
      "coefficient of determination R^2 of the prediction.:  0.999786957839893\n"
     ]
    }
   ],
   "source": [
    "print( 'coefficient of determination R^2 of the prediction.: ',model1_score)"
   ]
  },
  {
   "cell_type": "markdown",
   "metadata": {},
   "source": [
    "### Best cofficient of r square is 1. and we have 99% which is very good"
   ]
  },
  {
   "cell_type": "code",
   "execution_count": 144,
   "metadata": {
    "collapsed": false
   },
   "outputs": [
    {
     "name": "stdout",
     "output_type": "stream",
     "text": [
      "Mean squared error: 330.32\n"
     ]
    }
   ],
   "source": [
    "# The mean squared error\n",
    "print(\"Mean squared error: %.2f\"% mean_squared_error(yvalid, y_pred))"
   ]
  },
  {
   "cell_type": "markdown",
   "metadata": {
    "collapsed": true
   },
   "source": [
    "### MSE is little high because of prersence of outliers"
   ]
  },
  {
   "cell_type": "markdown",
   "metadata": {},
   "source": [
    "### submission"
   ]
  },
  {
   "cell_type": "code",
   "execution_count": 152,
   "metadata": {
    "collapsed": false,
    "scrolled": true
   },
   "outputs": [
    {
     "data": {
      "text/html": [
       "<div>\n",
       "<style scoped>\n",
       "    .dataframe tbody tr th:only-of-type {\n",
       "        vertical-align: middle;\n",
       "    }\n",
       "\n",
       "    .dataframe tbody tr th {\n",
       "        vertical-align: top;\n",
       "    }\n",
       "\n",
       "    .dataframe thead th {\n",
       "        text-align: right;\n",
       "    }\n",
       "</style>\n",
       "<table border=\"1\" class=\"dataframe\">\n",
       "  <thead>\n",
       "    <tr style=\"text-align: right;\">\n",
       "      <th></th>\n",
       "      <th>Inv_Id</th>\n",
       "      <th>Vendor_Code</th>\n",
       "      <th>GL_Code</th>\n",
       "      <th>Inv_Amt</th>\n",
       "      <th>Item_Description</th>\n",
       "    </tr>\n",
       "  </thead>\n",
       "  <tbody>\n",
       "    <tr>\n",
       "      <th>0</th>\n",
       "      <td>15003</td>\n",
       "      <td>VENDOR-2513</td>\n",
       "      <td>GL-6050310</td>\n",
       "      <td>56.13</td>\n",
       "      <td>Travel and Entertainment Miscellaneous Company...</td>\n",
       "    </tr>\n",
       "    <tr>\n",
       "      <th>1</th>\n",
       "      <td>15008</td>\n",
       "      <td>VENDOR-1044</td>\n",
       "      <td>GL-6101400</td>\n",
       "      <td>96.56</td>\n",
       "      <td>Final Site Clean Up Store Construction Advance...</td>\n",
       "    </tr>\n",
       "    <tr>\n",
       "      <th>2</th>\n",
       "      <td>15013</td>\n",
       "      <td>VENDOR-1254</td>\n",
       "      <td>GL-6101400</td>\n",
       "      <td>55.93</td>\n",
       "      <td>Arabian American Development Co Final Site Cle...</td>\n",
       "    </tr>\n",
       "    <tr>\n",
       "      <th>3</th>\n",
       "      <td>15019</td>\n",
       "      <td>VENDOR-1331</td>\n",
       "      <td>GL-2182000</td>\n",
       "      <td>32.62</td>\n",
       "      <td>Corporate Services Contingent Labor/Temp Labor...</td>\n",
       "    </tr>\n",
       "    <tr>\n",
       "      <th>4</th>\n",
       "      <td>15020</td>\n",
       "      <td>VENDOR-2513</td>\n",
       "      <td>GL-6050310</td>\n",
       "      <td>25.81</td>\n",
       "      <td>Fortune National Corp Miscellaneous Company Ca...</td>\n",
       "    </tr>\n",
       "  </tbody>\n",
       "</table>\n",
       "</div>"
      ],
      "text/plain": [
       "   Inv_Id  Vendor_Code     GL_Code  Inv_Amt  \\\n",
       "0   15003  VENDOR-2513  GL-6050310    56.13   \n",
       "1   15008  VENDOR-1044  GL-6101400    96.56   \n",
       "2   15013  VENDOR-1254  GL-6101400    55.93   \n",
       "3   15019  VENDOR-1331  GL-2182000    32.62   \n",
       "4   15020  VENDOR-2513  GL-6050310    25.81   \n",
       "\n",
       "                                    Item_Description  \n",
       "0  Travel and Entertainment Miscellaneous Company...  \n",
       "1  Final Site Clean Up Store Construction Advance...  \n",
       "2  Arabian American Development Co Final Site Cle...  \n",
       "3  Corporate Services Contingent Labor/Temp Labor...  \n",
       "4  Fortune National Corp Miscellaneous Company Ca...  "
      ]
     },
     "execution_count": 152,
     "metadata": {},
     "output_type": "execute_result"
    }
   ],
   "source": [
    "df2.head()"
   ]
  },
  {
   "cell_type": "code",
   "execution_count": 153,
   "metadata": {
    "collapsed": false,
    "scrolled": true
   },
   "outputs": [
    {
     "data": {
      "text/plain": [
       "0    15003\n",
       "1    15008\n",
       "2    15013\n",
       "3    15019\n",
       "4    15020\n",
       "Name: Inv_Id, dtype: int64"
      ]
     },
     "execution_count": 153,
     "metadata": {},
     "output_type": "execute_result"
    }
   ],
   "source": [
    "p=df2.iloc[:,0]\n",
    "p.head()"
   ]
  },
  {
   "cell_type": "code",
   "execution_count": 154,
   "metadata": {
    "collapsed": false,
    "scrolled": false
   },
   "outputs": [
    {
     "data": {
      "text/html": [
       "<div>\n",
       "<style scoped>\n",
       "    .dataframe tbody tr th:only-of-type {\n",
       "        vertical-align: middle;\n",
       "    }\n",
       "\n",
       "    .dataframe tbody tr th {\n",
       "        vertical-align: top;\n",
       "    }\n",
       "\n",
       "    .dataframe thead th {\n",
       "        text-align: right;\n",
       "    }\n",
       "</style>\n",
       "<table border=\"1\" class=\"dataframe\">\n",
       "  <thead>\n",
       "    <tr style=\"text-align: right;\">\n",
       "      <th></th>\n",
       "      <th>Inv_Id</th>\n",
       "    </tr>\n",
       "  </thead>\n",
       "  <tbody>\n",
       "    <tr>\n",
       "      <th>0</th>\n",
       "      <td>15003</td>\n",
       "    </tr>\n",
       "    <tr>\n",
       "      <th>1</th>\n",
       "      <td>15008</td>\n",
       "    </tr>\n",
       "    <tr>\n",
       "      <th>2</th>\n",
       "      <td>15013</td>\n",
       "    </tr>\n",
       "    <tr>\n",
       "      <th>3</th>\n",
       "      <td>15019</td>\n",
       "    </tr>\n",
       "    <tr>\n",
       "      <th>4</th>\n",
       "      <td>15020</td>\n",
       "    </tr>\n",
       "  </tbody>\n",
       "</table>\n",
       "</div>"
      ],
      "text/plain": [
       "   Inv_Id\n",
       "0   15003\n",
       "1   15008\n",
       "2   15013\n",
       "3   15019\n",
       "4   15020"
      ]
     },
     "execution_count": 154,
     "metadata": {},
     "output_type": "execute_result"
    }
   ],
   "source": [
    "p=pd.DataFrame(data=p)\n",
    "p.head()"
   ]
  },
  {
   "cell_type": "code",
   "execution_count": 155,
   "metadata": {
    "collapsed": false
   },
   "outputs": [
    {
     "data": {
      "text/plain": [
       "array([1758., 1758., 1758., ..., 1274., 2141., 1250.])"
      ]
     },
     "execution_count": 155,
     "metadata": {},
     "output_type": "execute_result"
    }
   ],
   "source": [
    "y_pred"
   ]
  },
  {
   "cell_type": "code",
   "execution_count": 156,
   "metadata": {
    "collapsed": false,
    "scrolled": true
   },
   "outputs": [
    {
     "data": {
      "text/html": [
       "<div>\n",
       "<style scoped>\n",
       "    .dataframe tbody tr th:only-of-type {\n",
       "        vertical-align: middle;\n",
       "    }\n",
       "\n",
       "    .dataframe tbody tr th {\n",
       "        vertical-align: top;\n",
       "    }\n",
       "\n",
       "    .dataframe thead th {\n",
       "        text-align: right;\n",
       "    }\n",
       "</style>\n",
       "<table border=\"1\" class=\"dataframe\">\n",
       "  <thead>\n",
       "    <tr style=\"text-align: right;\">\n",
       "      <th></th>\n",
       "      <th>0</th>\n",
       "    </tr>\n",
       "  </thead>\n",
       "  <tbody>\n",
       "    <tr>\n",
       "      <th>0</th>\n",
       "      <td>1758.0</td>\n",
       "    </tr>\n",
       "    <tr>\n",
       "      <th>1</th>\n",
       "      <td>1758.0</td>\n",
       "    </tr>\n",
       "    <tr>\n",
       "      <th>2</th>\n",
       "      <td>1758.0</td>\n",
       "    </tr>\n",
       "    <tr>\n",
       "      <th>3</th>\n",
       "      <td>1721.0</td>\n",
       "    </tr>\n",
       "    <tr>\n",
       "      <th>4</th>\n",
       "      <td>1250.0</td>\n",
       "    </tr>\n",
       "  </tbody>\n",
       "</table>\n",
       "</div>"
      ],
      "text/plain": [
       "        0\n",
       "0  1758.0\n",
       "1  1758.0\n",
       "2  1758.0\n",
       "3  1721.0\n",
       "4  1250.0"
      ]
     },
     "execution_count": 156,
     "metadata": {},
     "output_type": "execute_result"
    }
   ],
   "source": [
    " y_pred_final = pd.DataFrame(y_pred)      \n",
    "y_pred_final.head()"
   ]
  },
  {
   "cell_type": "code",
   "execution_count": 157,
   "metadata": {
    "collapsed": false
   },
   "outputs": [
    {
     "data": {
      "text/plain": [
       "Index(['Product_Category'], dtype='object')"
      ]
     },
     "execution_count": 157,
     "metadata": {},
     "output_type": "execute_result"
    }
   ],
   "source": [
    "y_pred_final.columns = ['Product_Category']\n",
    "y_pred_final.columns"
   ]
  },
  {
   "cell_type": "code",
   "execution_count": 158,
   "metadata": {
    "collapsed": false
   },
   "outputs": [
    {
     "data": {
      "text/html": [
       "<div>\n",
       "<style scoped>\n",
       "    .dataframe tbody tr th:only-of-type {\n",
       "        vertical-align: middle;\n",
       "    }\n",
       "\n",
       "    .dataframe tbody tr th {\n",
       "        vertical-align: top;\n",
       "    }\n",
       "\n",
       "    .dataframe thead th {\n",
       "        text-align: right;\n",
       "    }\n",
       "</style>\n",
       "<table border=\"1\" class=\"dataframe\">\n",
       "  <thead>\n",
       "    <tr style=\"text-align: right;\">\n",
       "      <th></th>\n",
       "      <th>Product_Category</th>\n",
       "    </tr>\n",
       "  </thead>\n",
       "  <tbody>\n",
       "    <tr>\n",
       "      <th>0</th>\n",
       "      <td>1758.0</td>\n",
       "    </tr>\n",
       "    <tr>\n",
       "      <th>1</th>\n",
       "      <td>1758.0</td>\n",
       "    </tr>\n",
       "    <tr>\n",
       "      <th>2</th>\n",
       "      <td>1758.0</td>\n",
       "    </tr>\n",
       "    <tr>\n",
       "      <th>3</th>\n",
       "      <td>1721.0</td>\n",
       "    </tr>\n",
       "    <tr>\n",
       "      <th>4</th>\n",
       "      <td>1250.0</td>\n",
       "    </tr>\n",
       "  </tbody>\n",
       "</table>\n",
       "</div>"
      ],
      "text/plain": [
       "   Product_Category\n",
       "0            1758.0\n",
       "1            1758.0\n",
       "2            1758.0\n",
       "3            1721.0\n",
       "4            1250.0"
      ]
     },
     "execution_count": 158,
     "metadata": {},
     "output_type": "execute_result"
    }
   ],
   "source": [
    "y_pred_final.head()"
   ]
  },
  {
   "cell_type": "code",
   "execution_count": 159,
   "metadata": {
    "collapsed": false
   },
   "outputs": [
    {
     "data": {
      "text/html": [
       "<div>\n",
       "<style scoped>\n",
       "    .dataframe tbody tr th:only-of-type {\n",
       "        vertical-align: middle;\n",
       "    }\n",
       "\n",
       "    .dataframe tbody tr th {\n",
       "        vertical-align: top;\n",
       "    }\n",
       "\n",
       "    .dataframe thead th {\n",
       "        text-align: right;\n",
       "    }\n",
       "</style>\n",
       "<table border=\"1\" class=\"dataframe\">\n",
       "  <thead>\n",
       "    <tr style=\"text-align: right;\">\n",
       "      <th></th>\n",
       "      <th>Product_Category</th>\n",
       "    </tr>\n",
       "  </thead>\n",
       "  <tbody>\n",
       "    <tr>\n",
       "      <th>0</th>\n",
       "      <td>CLASS-1758.0</td>\n",
       "    </tr>\n",
       "    <tr>\n",
       "      <th>1</th>\n",
       "      <td>CLASS-1758.0</td>\n",
       "    </tr>\n",
       "    <tr>\n",
       "      <th>2</th>\n",
       "      <td>CLASS-1758.0</td>\n",
       "    </tr>\n",
       "    <tr>\n",
       "      <th>3</th>\n",
       "      <td>CLASS-1721.0</td>\n",
       "    </tr>\n",
       "    <tr>\n",
       "      <th>4</th>\n",
       "      <td>CLASS-1250.0</td>\n",
       "    </tr>\n",
       "  </tbody>\n",
       "</table>\n",
       "</div>"
      ],
      "text/plain": [
       "  Product_Category\n",
       "0     CLASS-1758.0\n",
       "1     CLASS-1758.0\n",
       "2     CLASS-1758.0\n",
       "3     CLASS-1721.0\n",
       "4     CLASS-1250.0"
      ]
     },
     "execution_count": 159,
     "metadata": {},
     "output_type": "execute_result"
    }
   ],
   "source": [
    "y_pred_final['Product_Category'] = 'CLASS-' + y_pred_final['Product_Category'].astype(str)\n",
    "y_pred_final.head()"
   ]
  },
  {
   "cell_type": "code",
   "execution_count": 160,
   "metadata": {
    "collapsed": false,
    "scrolled": true
   },
   "outputs": [
    {
     "data": {
      "text/html": [
       "<div>\n",
       "<style scoped>\n",
       "    .dataframe tbody tr th:only-of-type {\n",
       "        vertical-align: middle;\n",
       "    }\n",
       "\n",
       "    .dataframe tbody tr th {\n",
       "        vertical-align: top;\n",
       "    }\n",
       "\n",
       "    .dataframe thead th {\n",
       "        text-align: right;\n",
       "    }\n",
       "</style>\n",
       "<table border=\"1\" class=\"dataframe\">\n",
       "  <thead>\n",
       "    <tr style=\"text-align: right;\">\n",
       "      <th></th>\n",
       "      <th>Inv_Id</th>\n",
       "      <th>Product_Category</th>\n",
       "    </tr>\n",
       "  </thead>\n",
       "  <tbody>\n",
       "    <tr>\n",
       "      <th>0</th>\n",
       "      <td>15003</td>\n",
       "      <td>CLASS-1758.0</td>\n",
       "    </tr>\n",
       "    <tr>\n",
       "      <th>1</th>\n",
       "      <td>15008</td>\n",
       "      <td>CLASS-1758.0</td>\n",
       "    </tr>\n",
       "    <tr>\n",
       "      <th>2</th>\n",
       "      <td>15013</td>\n",
       "      <td>CLASS-1758.0</td>\n",
       "    </tr>\n",
       "    <tr>\n",
       "      <th>3</th>\n",
       "      <td>15019</td>\n",
       "      <td>CLASS-1721.0</td>\n",
       "    </tr>\n",
       "    <tr>\n",
       "      <th>4</th>\n",
       "      <td>15020</td>\n",
       "      <td>CLASS-1250.0</td>\n",
       "    </tr>\n",
       "  </tbody>\n",
       "</table>\n",
       "</div>"
      ],
      "text/plain": [
       "   Inv_Id Product_Category\n",
       "0   15003     CLASS-1758.0\n",
       "1   15008     CLASS-1758.0\n",
       "2   15013     CLASS-1758.0\n",
       "3   15019     CLASS-1721.0\n",
       "4   15020     CLASS-1250.0"
      ]
     },
     "execution_count": 160,
     "metadata": {},
     "output_type": "execute_result"
    }
   ],
   "source": [
    "z=pd.concat([p, y_pred_final], axis=1)\n",
    "z.head()"
   ]
  },
  {
   "cell_type": "markdown",
   "metadata": {},
   "source": [
    "### renaming column name"
   ]
  },
  {
   "cell_type": "code",
   "execution_count": 161,
   "metadata": {
    "collapsed": false
   },
   "outputs": [
    {
     "data": {
      "text/plain": [
       "Index(['Inv_Id', 'Product_Category'], dtype='object')"
      ]
     },
     "execution_count": 161,
     "metadata": {},
     "output_type": "execute_result"
    }
   ],
   "source": [
    "z.columns = ['Inv_Id', 'Product_Category']\n",
    "z.columns"
   ]
  },
  {
   "cell_type": "code",
   "execution_count": 162,
   "metadata": {
    "collapsed": false
   },
   "outputs": [
    {
     "data": {
      "text/html": [
       "<div>\n",
       "<style scoped>\n",
       "    .dataframe tbody tr th:only-of-type {\n",
       "        vertical-align: middle;\n",
       "    }\n",
       "\n",
       "    .dataframe tbody tr th {\n",
       "        vertical-align: top;\n",
       "    }\n",
       "\n",
       "    .dataframe thead th {\n",
       "        text-align: right;\n",
       "    }\n",
       "</style>\n",
       "<table border=\"1\" class=\"dataframe\">\n",
       "  <thead>\n",
       "    <tr style=\"text-align: right;\">\n",
       "      <th></th>\n",
       "      <th>Inv_Id</th>\n",
       "      <th>Product_Category</th>\n",
       "    </tr>\n",
       "  </thead>\n",
       "  <tbody>\n",
       "    <tr>\n",
       "      <th>0</th>\n",
       "      <td>15003</td>\n",
       "      <td>CLASS-1758.0</td>\n",
       "    </tr>\n",
       "    <tr>\n",
       "      <th>1</th>\n",
       "      <td>15008</td>\n",
       "      <td>CLASS-1758.0</td>\n",
       "    </tr>\n",
       "    <tr>\n",
       "      <th>2</th>\n",
       "      <td>15013</td>\n",
       "      <td>CLASS-1758.0</td>\n",
       "    </tr>\n",
       "    <tr>\n",
       "      <th>3</th>\n",
       "      <td>15019</td>\n",
       "      <td>CLASS-1721.0</td>\n",
       "    </tr>\n",
       "    <tr>\n",
       "      <th>4</th>\n",
       "      <td>15020</td>\n",
       "      <td>CLASS-1250.0</td>\n",
       "    </tr>\n",
       "  </tbody>\n",
       "</table>\n",
       "</div>"
      ],
      "text/plain": [
       "   Inv_Id Product_Category\n",
       "0   15003     CLASS-1758.0\n",
       "1   15008     CLASS-1758.0\n",
       "2   15013     CLASS-1758.0\n",
       "3   15019     CLASS-1721.0\n",
       "4   15020     CLASS-1250.0"
      ]
     },
     "execution_count": 162,
     "metadata": {},
     "output_type": "execute_result"
    }
   ],
   "source": [
    "z.head()"
   ]
  },
  {
   "cell_type": "code",
   "execution_count": 163,
   "metadata": {
    "collapsed": false
   },
   "outputs": [],
   "source": [
    "submission = z[['Inv_Id', 'Product_Category']]\n",
    "submission.to_csv('sub_bow.csv', index=False) # writing data to a CSV file"
   ]
  },
  {
   "cell_type": "code",
   "execution_count": 164,
   "metadata": {
    "collapsed": true
   },
   "outputs": [],
   "source": [
    "new_bow=pd.read_csv(\"sub_bow.csv\")"
   ]
  },
  {
   "cell_type": "code",
   "execution_count": 165,
   "metadata": {
    "collapsed": false,
    "scrolled": true
   },
   "outputs": [
    {
     "data": {
      "text/html": [
       "<div>\n",
       "<style scoped>\n",
       "    .dataframe tbody tr th:only-of-type {\n",
       "        vertical-align: middle;\n",
       "    }\n",
       "\n",
       "    .dataframe tbody tr th {\n",
       "        vertical-align: top;\n",
       "    }\n",
       "\n",
       "    .dataframe thead th {\n",
       "        text-align: right;\n",
       "    }\n",
       "</style>\n",
       "<table border=\"1\" class=\"dataframe\">\n",
       "  <thead>\n",
       "    <tr style=\"text-align: right;\">\n",
       "      <th></th>\n",
       "      <th>Inv_Id</th>\n",
       "      <th>Product_Category</th>\n",
       "    </tr>\n",
       "  </thead>\n",
       "  <tbody>\n",
       "    <tr>\n",
       "      <th>0</th>\n",
       "      <td>15003</td>\n",
       "      <td>CLASS-1758.0</td>\n",
       "    </tr>\n",
       "    <tr>\n",
       "      <th>1</th>\n",
       "      <td>15008</td>\n",
       "      <td>CLASS-1758.0</td>\n",
       "    </tr>\n",
       "    <tr>\n",
       "      <th>2</th>\n",
       "      <td>15013</td>\n",
       "      <td>CLASS-1758.0</td>\n",
       "    </tr>\n",
       "    <tr>\n",
       "      <th>3</th>\n",
       "      <td>15019</td>\n",
       "      <td>CLASS-1721.0</td>\n",
       "    </tr>\n",
       "    <tr>\n",
       "      <th>4</th>\n",
       "      <td>15020</td>\n",
       "      <td>CLASS-1250.0</td>\n",
       "    </tr>\n",
       "  </tbody>\n",
       "</table>\n",
       "</div>"
      ],
      "text/plain": [
       "   Inv_Id Product_Category\n",
       "0   15003     CLASS-1758.0\n",
       "1   15008     CLASS-1758.0\n",
       "2   15013     CLASS-1758.0\n",
       "3   15019     CLASS-1721.0\n",
       "4   15020     CLASS-1250.0"
      ]
     },
     "execution_count": 165,
     "metadata": {},
     "output_type": "execute_result"
    }
   ],
   "source": [
    "new_bow.head()"
   ]
  },
  {
   "cell_type": "code",
   "execution_count": 167,
   "metadata": {
    "collapsed": false
   },
   "outputs": [
    {
     "name": "stdout",
     "output_type": "stream",
     "text": [
      "Final Dataset for submission shape: (2446, 2)\n"
     ]
    }
   ],
   "source": [
    "print(\"Final Dataset for submission shape:\", new_bow.shape)"
   ]
  },
  {
   "cell_type": "code",
   "execution_count": 169,
   "metadata": {
    "collapsed": false
   },
   "outputs": [
    {
     "data": {
      "text/plain": [
       "Inv_Id                0\n",
       "Product_Category    776\n",
       "dtype: int64"
      ]
     },
     "execution_count": 169,
     "metadata": {},
     "output_type": "execute_result"
    }
   ],
   "source": [
    "new_bow.isnull().sum()"
   ]
  },
  {
   "cell_type": "markdown",
   "metadata": {},
   "source": [
    "### Download link for csv file created for submission"
   ]
  },
  {
   "cell_type": "code",
   "execution_count": 170,
   "metadata": {
    "collapsed": false
   },
   "outputs": [
    {
     "data": {
      "text/html": [
       "<a download=\"sub_bow.csv\" href=\"data:text/csv;base64,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\" target=\"_blank\">Download CSV file</a>"
      ],
      "text/plain": [
       "<IPython.core.display.HTML object>"
      ]
     },
     "execution_count": 170,
     "metadata": {},
     "output_type": "execute_result"
    }
   ],
   "source": [
    "from IPython.display import HTML\n",
    "import base64\n",
    "\n",
    "def create_download_link( submission, title = \"Download CSV file\", filename = \"sub_bow.csv\"):  \n",
    "    csv = submission.to_csv()\n",
    "    b64 = base64.b64encode(csv.encode())\n",
    "    payload = b64.decode()\n",
    "    html = '<a download=\"{filename}\" href=\"data:text/csv;base64,{payload}\" target=\"_blank\">{title}</a>'\n",
    "    html = html.format(payload=payload,title=title,filename=filename)\n",
    "    return HTML(html)\n",
    "\n",
    "create_download_link(submission)"
   ]
  },
  {
   "cell_type": "markdown",
   "metadata": {
    "collapsed": true
   },
   "source": [
    "# SUMMARY\n",
    "### We have adopted ,mainly three approaches here for prediction of product category i.e. Decision Tree Regressor, Random Foresr Regressor,Feature Engineering(NLP).\n",
    "### In both Regressors, accuracy came out almost same but for best results if we observe all factors in deep we can say that Random Forest Regressor is beeter than Decision Tree Regressor.\n",
    "### Then Using Random Forest Regressor, we have done feature engineering with two approaches i.e. bag of words & tfidf approaches.\n",
    "### These two approaches results almost equal accuracy score, but likewise in depth we conclude that Bag of Words is best approach using Random Forest Regressor."
   ]
  },
  {
   "cell_type": "code",
   "execution_count": null,
   "metadata": {
    "collapsed": true
   },
   "outputs": [],
   "source": []
  },
  {
   "cell_type": "code",
   "execution_count": null,
   "metadata": {
    "collapsed": true
   },
   "outputs": [],
   "source": []
  },
  {
   "cell_type": "code",
   "execution_count": null,
   "metadata": {
    "collapsed": true
   },
   "outputs": [],
   "source": []
  }
 ],
 "metadata": {
  "kernelspec": {
   "display_name": "Python 3",
   "language": "python",
   "name": "python3"
  },
  "language_info": {
   "codemirror_mode": {
    "name": "ipython",
    "version": 3
   },
   "file_extension": ".py",
   "mimetype": "text/x-python",
   "name": "python",
   "nbconvert_exporter": "python",
   "pygments_lexer": "ipython3",
   "version": "3.5.2"
  },
  "widgets": {
   "state": {},
   "version": "1.1.2"
  }
 },
 "nbformat": 4,
 "nbformat_minor": 0
}
